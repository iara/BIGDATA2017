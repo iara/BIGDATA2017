{
 "cells": [
  {
   "cell_type": "markdown",
   "metadata": {},
   "source": [
    "## BFS"
   ]
  },
  {
   "cell_type": "markdown",
   "metadata": {},
   "source": [
    "### Iterativo"
   ]
  },
  {
   "cell_type": "code",
   "execution_count": 3,
   "metadata": {},
   "outputs": [
    {
     "name": "stdout",
     "output_type": "stream",
     "text": [
      "{'F', 'B', 'D', 'C', 'E', 'A'}\n"
     ]
    }
   ],
   "source": [
    "graph = {'A': set(['B', 'C']),\n",
    "         'B': set(['A', 'D', 'E']),\n",
    "         'C': set(['A', 'F']),\n",
    "         'D': set(['B']),\n",
    "         'E': set(['B', 'F']),\n",
    "         'F': set(['C', 'E'])}\n",
    "\n",
    "def dfs(graph, start):\n",
    "    visited, stack = set(), [start]\n",
    "    while stack:\n",
    "        vertex = stack.pop()\n",
    "        if vertex not in visited:\n",
    "            visited.add(vertex)\n",
    "            stack.extend(graph[vertex] - visited)\n",
    "    return visited\n",
    "\n",
    "print(dfs(graph, 'C'))"
   ]
  },
  {
   "cell_type": "markdown",
   "metadata": {},
   "source": [
    "### Paralelo - MapReduce"
   ]
  },
  {
   "cell_type": "code",
   "execution_count": 24,
   "metadata": {},
   "outputs": [
    {
     "name": "stdout",
     "output_type": "stream",
     "text": [
      "['C']\n"
     ]
    }
   ],
   "source": [
    "from pyspark import SparkFiles\n",
    "from operator import add\n",
    "\n",
    "sc = SparkContext.getOrCreate()\n",
    "\n",
    "class BFS:\n",
    "    \n",
    "    def visita(self, graphRDD, nodes):\n",
    "        q = graphRDD.flatMap(lambda x: x.items())\\\n",
    "              .filter(lambda x: x[0] in nodes)\\\n",
    "              .map(lambda x: x[1])\\\n",
    "              .flatMap(lambda x: x)\\\n",
    "              .map(lambda x: (x,1))\\\n",
    "              .reduceByKey(add)\\\n",
    "              .map(lambda x: x[0])\n",
    "        return q\n",
    "\n",
    "    def contains(self, lista, vertice):\n",
    "        values = lista.filter(lambda x: x == vertice).collect()\n",
    "        return values\n",
    "    \n",
    "    def search(self, graphRDD):\n",
    "        contein = []\n",
    "        lista_visitados = [\"A\"]\n",
    "        v = \"A\"\n",
    "        len_lista = len(lista_visitados)\n",
    "        todos_percorridos = []\n",
    "        while contein == [] and len_lista>0:\n",
    "            lista_visitados = visita(graphRDD, lista_visitados)\n",
    "            contein = contains(lista_visitados, v)\n",
    "            lista_visitados = lista_visitados.collect()\n",
    "            todos_percorridos.append(lista)\n",
    "            if len(todos_percorridos) > 3:\n",
    "                if todos_percorridos[-1] == todos_percorridos[-2] and todos_percorridos[-2] == todos_percorridos[-3]:\n",
    "                    break\n",
    "        return lista_visitados\n",
    "\n",
    "\n",
    "if __name__ == \"__main__\":\n",
    "    graph = [{'A': set(['B', 'C', 'E']),\n",
    "             'B': set(['A', 'D', 'E']),\n",
    "             'C': set(['A', 'F']),\n",
    "             'D': set(['B']),\n",
    "             'E': set(['B', 'F']),\n",
    "             'F': set(['C', 'E'])}]\n",
    "\n",
    "\n",
    "    graphRDD = sc.parallelize(graph, 4)\n",
    "    \n",
    "    bfs_parallel = BFS()\n",
    "    print(bfs_parallel.search(graphRDD))\n"
   ]
  },
  {
   "cell_type": "code",
   "execution_count": null,
   "metadata": {
    "collapsed": true
   },
   "outputs": [],
   "source": []
  }
 ],
 "metadata": {
  "kernelspec": {
   "display_name": "Python 3",
   "language": "python",
   "name": "python3"
  },
  "language_info": {
   "codemirror_mode": {
    "name": "ipython",
    "version": 3
   },
   "file_extension": ".py",
   "mimetype": "text/x-python",
   "name": "python",
   "nbconvert_exporter": "python",
   "pygments_lexer": "ipython3",
   "version": "3.6.1"
  }
 },
 "nbformat": 4,
 "nbformat_minor": 2
}

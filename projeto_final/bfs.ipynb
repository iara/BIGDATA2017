{
 "cells": [
  {
   "cell_type": "markdown",
   "metadata": {},
   "source": [
    "## BFS"
   ]
  },
  {
   "cell_type": "markdown",
   "metadata": {},
   "source": [
    "### Iterativo"
   ]
  },
  {
   "cell_type": "code",
   "execution_count": 3,
   "metadata": {},
   "outputs": [
    {
     "name": "stdout",
     "output_type": "stream",
     "text": [
      "{'F', 'B', 'D', 'C', 'E', 'A'}\n"
     ]
    }
   ],
   "source": [
    "graph = {'A': set(['B', 'C']),\n",
    "         'B': set(['A', 'D', 'E']),\n",
    "         'C': set(['A', 'F']),\n",
    "         'D': set(['B']),\n",
    "         'E': set(['B', 'F']),\n",
    "         'F': set(['C', 'E'])}\n",
    "\n",
    "def dfs(graph, start):\n",
    "    visited, stack = set(), [start]\n",
    "    while stack:\n",
    "        vertex = stack.pop()\n",
    "        if vertex not in visited:\n",
    "            visited.add(vertex)\n",
    "            stack.extend(graph[vertex] - visited)\n",
    "    return visited\n",
    "\n",
    "print(dfs(graph, 'C'))"
   ]
  },
  {
   "cell_type": "markdown",
   "metadata": {},
   "source": [
    "### Paralelo - MapReduce"
   ]
  },
  {
   "cell_type": "code",
   "execution_count": 25,
   "metadata": {},
   "outputs": [
    {
     "name": "stdout",
     "output_type": "stream",
     "text": [
      "[]\n",
      "['B', 'C', 'E']\n",
      "['A']\n",
      "['A', 'F', 'B', 'D', 'E']\n"
     ]
    }
   ],
   "source": [
    "from pyspark import SparkFiles\n",
    "from operator import add\n",
    "\n",
    "sc = SparkContext.getOrCreate()\n",
    "\n",
    "vertex = \"C\"\n",
    "vertexRDD = sc.parallelize(['C'], 4)   \n",
    "\n",
    "graph = [{'A': set(['B', 'C', 'E']),\n",
    "         'B': set(['A', 'D', 'E']),\n",
    "         'C': set(['A', 'F']),\n",
    "         'D': set(['B']),\n",
    "         'E': set(['B', 'F']),\n",
    "         'F': set(['C', 'E'])}]\n",
    "\n",
    "\n",
    "graphRDD = sc.parallelize(graph, 4)\n",
    "\n",
    "def visita(graphRDD, nodes):\n",
    "    q = graphRDD.flatMap(lambda x: x.items())\\\n",
    "              .filter(lambda x: x[0] in nodes)\\\n",
    "              .map(lambda x: x[1])\\\n",
    "              .flatMap(lambda x: x)\\\n",
    "              .map(lambda x: (x,1))\\\n",
    "              .reduceByKey(add)\\\n",
    "              .map(lambda x: x[0])\n",
    "    return q\n",
    "\n",
    "def contains(lista, vertice):\n",
    "    values = lista.filter(lambda x: x == vertice).collect()\n",
    "    return values\n",
    "\n",
    "w = [] #contein\n",
    "lista = [\"A\"] #relacao visitados\n",
    "v = \"A\"\n",
    "len_lista =100\n",
    "lista_visitados = [] #todos os caminhos percorridos\n",
    "while w == [] and len_lista>0:\n",
    "    lista = visita(graphRDD, lista)\n",
    "    w = contains(lista, v)\n",
    "    lista = lista.collect()\n",
    "    lista_visitados.append(lista)\n",
    "    if len(lista_visitados) > 3:\n",
    "        if lista_visitados[-1] == lista_visitados[-2] and lista_visitados[-2] == lista_visitados[-3]:\n",
    "            break\n",
    "    print(w)\n",
    "    print(lista)    #len_lista = lista.count()"
   ]
  }
 ],
 "metadata": {
  "kernelspec": {
   "display_name": "Python 3",
   "language": "python",
   "name": "python3"
  },
  "language_info": {
   "codemirror_mode": {
    "name": "ipython",
    "version": 3
   },
   "file_extension": ".py",
   "mimetype": "text/x-python",
   "name": "python",
   "nbconvert_exporter": "python",
   "pygments_lexer": "ipython3",
   "version": "3.6.1"
  }
 },
 "nbformat": 4,
 "nbformat_minor": 2
}

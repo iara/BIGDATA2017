{
 "cells": [
  {
   "cell_type": "markdown",
   "metadata": {},
   "source": [
    "## BFS"
   ]
  },
  {
   "cell_type": "markdown",
   "metadata": {},
   "source": [
    "### Iterativo"
   ]
  },
  {
   "cell_type": "code",
   "execution_count": 10,
   "metadata": {},
   "outputs": [
    {
     "name": "stdout",
     "output_type": "stream",
     "text": [
      "{'F', 'B', 'D', 'C', 'E', 'A'}\n"
     ]
    }
   ],
   "source": [
    "graph = {'A': set(['B', 'C']),\n",
    "         'B': set(['A', 'D', 'E']),\n",
    "         'C': set(['A', 'F']),\n",
    "         'D': set(['B']),\n",
    "         'E': set(['B', 'F']),\n",
    "         'F': set(['C', 'E'])}\n",
    "\n",
    "def dfs(graph, start):\n",
    "    visited, stack = set(), [start]\n",
    "    while stack:\n",
    "        vertex = stack.pop()\n",
    "        if vertex not in visited:\n",
    "            visited.add(vertex)\n",
    "            stack.extend(graph[vertex] - visited)\n",
    "    return visited\n",
    "\n",
    "print(dfs(graph, 'C'))"
   ]
  },
  {
   "cell_type": "markdown",
   "metadata": {},
   "source": [
    "### Paralelo - MapReduce"
   ]
  },
  {
   "cell_type": "code",
   "execution_count": 112,
   "metadata": {},
   "outputs": [
    {
     "name": "stdout",
     "output_type": "stream",
     "text": [
      "Ciclo\n",
      "['A', 'B', 'C']\n",
      "Sem Ciclo\n",
      "['A', 'B', 'C', 'D']\n"
     ]
    }
   ],
   "source": [
    "from pyspark import SparkFiles\n",
    "from operator import add\n",
    "\n",
    "sc = SparkContext.getOrCreate()\n",
    "\n",
    "class BFS:\n",
    "    \n",
    "    def search(self, graphRDD, origem, destino):\n",
    "        contein = []\n",
    "        lista_visitados = [origem]\n",
    "        v = destino\n",
    "        len_graph = graphRDD.flatMap(lambda x: x.items()).count()\n",
    "        todos_percorridos = [origem]\n",
    "        while contein == [] and len_graph >=len(todos_percorridos): # verifica ciclo\n",
    "            lista_visitados = graphRDD.flatMap(lambda x: x.items())\\\n",
    "                                  .filter(lambda x: x[0] in lista_visitados)\\\n",
    "                                  .map(lambda x: x[1])\\\n",
    "                                  .flatMap(lambda x: x)\\\n",
    "                                  .map(lambda x: (x,1))\\\n",
    "                                  .reduceByKey(add)\\\n",
    "                                  .map(lambda x: x[0])\n",
    "            contein = lista_visitados.filter(lambda x: x == v).collect()\n",
    "            lista_visitados = lista_visitados.collect()\n",
    "            todos_percorridos.append(lista_visitados)\n",
    "            if len(todos_percorridos) > 3:\n",
    "                if todos_percorridos[-1] == todos_percorridos[-2] and todos_percorridos[-2] == todos_percorridos[-3]:\n",
    "                    break\n",
    "        return sc.parallelize(todos_percorridos, 4).flatMap(lambda x: x).distinct()\n",
    "\n",
    "\n",
    "if __name__ == \"__main__\":\n",
    "    graphCiclo = [{'A': set(['B',]),\n",
    "             'B': set(['C']),\n",
    "             'C': set(['A']),\n",
    "             'D': set(['B']),\n",
    "             'E': set(['B', 'F']),\n",
    "             'F': set(['C', 'E'])}]\n",
    "\n",
    "    graph = [{'A': set(['B', 'C', 'D']),\n",
    "         'B': set(['A', 'D', 'E']),\n",
    "         'C': set(['A', 'F']),\n",
    "         'D': set(['B']),\n",
    "         'E': set(['B', 'F']),\n",
    "         'F': set(['C', 'E'])}]\n",
    "    \n",
    "    bfs_parallel = BFS()\n",
    "        \n",
    "    print(\"Ciclo\")\n",
    "    print(bfs_parallel.search(sc.parallelize(graphCiclo, 4), \"A\", \"D\").collect())\n",
    "    print(\"Sem Ciclo\")\n",
    "    print(bfs_parallel.search(sc.parallelize(graph, 4), \"A\", \"D\").collect())"
   ]
  },
  {
   "cell_type": "code",
   "execution_count": null,
   "metadata": {
    "collapsed": true
   },
   "outputs": [],
   "source": []
  }
 ],
 "metadata": {
  "kernelspec": {
   "display_name": "Python 3",
   "language": "python",
   "name": "python3"
  },
  "language_info": {
   "codemirror_mode": {
    "name": "ipython",
    "version": 3
   },
   "file_extension": ".py",
   "mimetype": "text/x-python",
   "name": "python",
   "nbconvert_exporter": "python",
   "pygments_lexer": "ipython3",
   "version": "3.6.1"
  }
 },
 "nbformat": 4,
 "nbformat_minor": 2
}

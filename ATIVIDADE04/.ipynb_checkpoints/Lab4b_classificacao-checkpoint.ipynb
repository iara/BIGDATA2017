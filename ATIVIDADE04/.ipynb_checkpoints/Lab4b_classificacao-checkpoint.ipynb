{
 "cells": [
  {
   "cell_type": "markdown",
   "metadata": {},
   "source": [
    "![CMCC](http://cmcc.ufabc.edu.br/images/logo_site.jpg)\n",
    "# **Modelos de Classificação**\n",
    "\n",
    "#### Este laboratório irá cobrir os passos para tratar a base de dados de taxa de cliques (click-through rate - CTR) e criar um modelo de classificação para tentar determinar se um usuário irá ou não clicar em um banner.\n",
    "\n",
    "#### Para isso utilizaremos a base de dados [Criteo Labs](http://labs.criteo.com/) que foi utilizado em uma competição do [Kaggle](https://www.kaggle.com/c/criteo-display-ad-challenge).\n",
    "\n",
    "#### ** Nesse notebook: **\n",
    "+  ####*Parte 1:* Utilização do one-hot-encoding (OHE) para transformar atributos categóricos em numéricos\n",
    "+  ####*Parte 2:* Construindo um dicionário OHE\n",
    "+  ####*Parte 3:* Geração de atributos OHE na base de dados CTR\n",
    " + #### *Visualização 1:* Frequência de atributos\n",
    "+  ####*Parte 4:* Predição de CTR e avaliação da perda logarítimica (logloss)\n",
    " + #### *Visualização 2:* Curva ROC\n",
    "+  ####*Parte 5:* Reduzindo a dimensão dos atributos através de hashing (feature hashing)\n",
    " \n",
    "#### Referências de métodos: [Spark's Python API](https://spark.apache.org/docs/latest/api/python/pyspark.html#pyspark.RDD)e [NumPy Reference](http://docs.scipy.org/doc/numpy/reference/index.html)"
   ]
  },
  {
   "cell_type": "markdown",
   "metadata": {},
   "source": [
    "### ** Part 1: Utilização do one-hot-encoding (OHE) para transformar atributos categóricos em numéricos **"
   ]
  },
  {
   "cell_type": "markdown",
   "metadata": {},
   "source": [
    "#### ** (1a) One-hot-encoding **\n",
    "\n",
    "#### Para um melhor entendimento do processo da codificação OHE vamos trabalhar com uma base de dados pequena e sem rótulos. Cada objeto dessa base pode conter três atributos, o primeiro indicando o animal, o segundo a cor e o terceiro qual animal que ele come.\n",
    "\n",
    "#### No esquema OHE, queremos representar cada tupla `(IDatributo, categoria)` através de um atributo binário. Nós podemos fazer isso no Python criando um dicionário que mapeia cada possível tupla em um inteiro que corresponde a sua posição no vetor de atributos binário.\n",
    "\n",
    "#### Para iniciar crie um dicionário correspondente aos atributos categóricos da base construída logo abaixo. Faça isso manualmente."
   ]
  },
  {
   "cell_type": "code",
   "execution_count": 35,
   "metadata": {
    "collapsed": true
   },
   "outputs": [],
   "source": [
    "from pyspark import SparkFiles\n",
    "import unittest\n",
    "sc = SparkContext.getOrCreate()\n",
    "# Data for manual OHE\n",
    "# Note: the first data point does not include any value for the optional third feature\n",
    "sampleOne = [(0, 'mouse'), (1, 'black')]\n",
    "sampleTwo = [(0, 'cat'), (1, 'tabby'), (2, 'mouse')]\n",
    "sampleThree =  [(0, 'bear'), (1, 'black'), (2, 'salmon')]\n",
    "sampleDataRDD = sc.parallelize([sampleOne, sampleTwo, sampleThree])"
   ]
  },
  {
   "cell_type": "code",
   "execution_count": 36,
   "metadata": {},
   "outputs": [],
   "source": [
    "# EXERCICIO\n",
    "sampleOHEDictManual = {}\n",
    "sampleOHEDictManual[(0,'bear')] = 0\n",
    "sampleOHEDictManual[(0,'cat')] = 1\n",
    "sampleOHEDictManual[(0,'mouse')] = 2\n",
    "sampleOHEDictManual[(1, 'black')] = 3\n",
    "sampleOHEDictManual[(1, 'tabby')] = 4\n",
    "sampleOHEDictManual[(2, 'mouse')] = 5\n",
    "sampleOHEDictManual[(2, 'salmon')] = 6"
   ]
  },
  {
   "cell_type": "code",
   "execution_count": 37,
   "metadata": {},
   "outputs": [
    {
     "name": "stdout",
     "output_type": "stream",
     "text": [
      "OK\n",
      "OK\n",
      "OK\n",
      "OK\n",
      "OK\n",
      "OK\n",
      "OK\n",
      "OK\n"
     ]
    }
   ],
   "source": [
    "# TEST One-hot-encoding (1a)\n",
    "#from test_helper import Test\n",
    "import hashlib\n",
    "\n",
    "def hashStr(objeto):\n",
    "    return hashlib.sha1(str(objeto).encode('utf-8')).hexdigest()\n",
    "\n",
    "assert hashStr(sampleOHEDictManual[(0,'bear')]) == \"b6589fc6ab0dc82cf12099d1c2d40ab994e8410c\",\\\n",
    "    'incorrect value for sampleOHEDictManual[(0,\\'bear\\')]'\n",
    "print(\"OK\")\n",
    "assert hashStr(sampleOHEDictManual[(0,'cat')]) == \"356a192b7913b04c54574d18c28d46e6395428ab\",\\\n",
    "    'incorrect value for sampleOHEDictManual[(0,\\'cat\\')]'\n",
    "print(\"OK\")   \n",
    "assert hashStr(sampleOHEDictManual[(0,'mouse')]) == \"da4b9237bacccdf19c0760cab7aec4a8359010b0\",\\\n",
    "    'incorrect value for sampleOHEDictManual[(0,\\'mouse\\')]'\n",
    "print(\"OK\")\n",
    "assert hashStr(sampleOHEDictManual[(1,'black')]) == \"77de68daecd823babbb58edb1c8e14d7106e83bb\",\\\n",
    "    'incorrect value for sampleOHEDictManual[(1,\\'black\\')]'\n",
    "print(\"OK\")\n",
    "assert hashStr(sampleOHEDictManual[(1,'tabby')]) == \"1b6453892473a467d07372d45eb05abc2031647a\",\\\n",
    "    'incorrect value for sampleOHEDictManual[(1,\\'tabby\\')]'\n",
    "print(\"OK\")\n",
    "assert hashStr(sampleOHEDictManual[(2,'mouse')]) == \"ac3478d69a3c81fa62e60f5c3696165a4e5e6ac4\",\\\n",
    "    'incorrect value for sampleOHEDictManual[(2,\\'mouse\\')]'\n",
    "print(\"OK\")\n",
    "assert hashStr(sampleOHEDictManual[(2,'salmon')]) == \"c1dfd96eea8cc2b62785275bca38ac261256e278\",\\\n",
    "    'incorrect value for sampleOHEDictManual[(2,\\'salmon\\')]'\n",
    "print(\"OK\")\n",
    "assert len(sampleOHEDictManual.keys()) == 7,'incorrect number of keys in sampleOHEDictManual'\n",
    "print(\"OK\")"
   ]
  },
  {
   "cell_type": "markdown",
   "metadata": {},
   "source": [
    "#### ** (1b) Vetores Esparsos **\n",
    "\n",
    "#### Pontos de dados categóricos geralmente apresentam um pequeno conjunto de OHE não-nulos relativo ao total de possíveis atributos. Tirando proveito dessa propriedade podemos representar nossos dados como vetores esparsos, economizando espaço de armazenamento e cálculos computacionais.\n",
    "\n",
    "#### No próximo exercício transforme os vetores com nome precedidos de `Dense` para vetores esparsos. Utilize a classe [SparseVector](https://spark.apache.org/docs/latest/api/python/pyspark.mllib.html#pyspark.mllib.linalg.SparseVector) para representá-los e verifique que ambas as representações retornam o mesmo resultado nos cálculos dos produtos interno.\n",
    "\n",
    "#### Use `SparseVector(tamanho, *args)` para criar um novo vetor esparso onde `tamanho` é o tamanho do vetor e `args` pode ser um dicionário, uma lista de tuplas (índice, valor) ou duas arrays separadas de índices e valores ordenados por índice."
   ]
  },
  {
   "cell_type": "code",
   "execution_count": 38,
   "metadata": {
    "collapsed": true
   },
   "outputs": [],
   "source": [
    "import numpy as np\n",
    "from pyspark.mllib.linalg import SparseVector"
   ]
  },
  {
   "cell_type": "code",
   "execution_count": 39,
   "metadata": {},
   "outputs": [
    {
     "name": "stdout",
     "output_type": "stream",
     "text": [
      "7.3\n",
      "7.3\n",
      "-0.5\n",
      "-0.5\n"
     ]
    }
   ],
   "source": [
    "# EXERCICIO\n",
    "aDense = np.array([0., 3., 0., 4.])\n",
    "aSparse = SparseVector(4, [(1,3), (3,4)])\n",
    "\n",
    "bDense = np.array([0., 0., 0., 1.])\n",
    "bSparse = SparseVector(4, [(3, 1)])\n",
    "\n",
    "w = np.array([0.4, 3.1, -1.4, -.5])\n",
    "print (aDense.dot(w))\n",
    "print (aSparse.dot(w))\n",
    "print (bDense.dot(w))\n",
    "print (bSparse.dot(w))"
   ]
  },
  {
   "cell_type": "code",
   "execution_count": 40,
   "metadata": {},
   "outputs": [
    {
     "name": "stdout",
     "output_type": "stream",
     "text": [
      "OK\n",
      "OK\n",
      "OK\n",
      "OK\n"
     ]
    }
   ],
   "source": [
    "# TEST Sparse Vectors (1b)\n",
    "assert isinstance(aSparse, SparseVector) == True, 'aSparse needs to be an instance of SparseVector'\n",
    "print (\"OK\")\n",
    "assert isinstance(bSparse, SparseVector) == True, 'aSparse needs to be an instance of SparseVector'\n",
    "print (\"OK\")\n",
    "assert aDense.dot(w) == aSparse.dot(w), 'dot product of aDense and w should equal dot product of aSparse and w'\n",
    "print (\"OK\")\n",
    "assert bDense.dot(w) == bSparse.dot(w), 'dot product of bDense and w should equal dot product of bSparse and w'\n",
    "print (\"OK\")"
   ]
  },
  {
   "cell_type": "markdown",
   "metadata": {},
   "source": [
    "#### **(1c) Atributos OHE como vetores esparsos **\n",
    "\n",
    "#### Agora vamos representar nossos atributos OHE como vetores esparsos. Utilizando o dicionário `sampleOHEDictManual`, crie um vetor esparso para cada amostra de nossa base de dados. Todo atributo que ocorre em uma amostra deve ter valor 1.0. Por exemplo, um vetor para um ponto com os atributos 2 e 4 devem ser `[0.0, 0.0, 1.0, 0.0, 1.0, 0.0, 0.0]`."
   ]
  },
  {
   "cell_type": "code",
   "execution_count": 41,
   "metadata": {
    "collapsed": true
   },
   "outputs": [],
   "source": [
    "# Reminder of the sample features\n",
    "# sampleOne = [(0, 'mouse'), (1, 'black')]\n",
    "# sampleTwo = [(0, 'cat'), (1, 'tabby'), (2, 'mouse')]\n",
    "# sampleThree =  [(0, 'bear'), (1, 'black'), (2, 'salmon')]"
   ]
  },
  {
   "cell_type": "code",
   "execution_count": 42,
   "metadata": {},
   "outputs": [],
   "source": [
    "# EXERCICIO\n",
    "sampleOneOHEFeatManual = SparseVector(7, [(2,1), (3,1)])\n",
    "sampleTwoOHEFeatManual = SparseVector(7, [(1,1),(4,1),(5,1)])\n",
    "sampleThreeOHEFeatManual = SparseVector(7,[(0,1),(3,1),(6,1)])"
   ]
  },
  {
   "cell_type": "code",
   "execution_count": 44,
   "metadata": {},
   "outputs": [
    {
     "name": "stdout",
     "output_type": "stream",
     "text": [
      "OK\n",
      "OK\n",
      "OK\n",
      "OK\n",
      "OK\n",
      "OK\n"
     ]
    }
   ],
   "source": [
    "# TEST OHE Features as sparse vectors (1c)\n",
    "assert isinstance(sampleOneOHEFeatManual, SparseVector) == True, \\\n",
    "                        'sampleOneOHEFeatManual needs to be a SparseVector'\n",
    "print (\"OK\")\n",
    "assert isinstance(sampleTwoOHEFeatManual, SparseVector) == True, \\\n",
    "                        'sampleTwoOHEFeatManual needs to be a SparseVector'\n",
    "print (\"OK\")\n",
    "assert isinstance(sampleThreeOHEFeatManual, SparseVector) == True, \\\n",
    "                        'sampleThreeOHEFeatManual needs to be a SparseVector'\n",
    "print (\"OK\")\n",
    "\n",
    "assert hashStr(sampleOneOHEFeatManual) == \"ecc00223d141b7bd0913d52377cee2cf5783abd6\",\\\n",
    "    'incorrect value for sampleOneOHEFeatManual'\n",
    "print(\"OK\")\n",
    "\n",
    "assert hashStr(sampleTwoOHEFeatManual) == \"26b023f4109e3b8ab32241938e2e9b9e9d62720a\",\\\n",
    "    'incorrect value for sampleTwoOHEFeatManual'\n",
    "print(\"OK\")\n",
    "\n",
    "assert hashStr(sampleThreeOHEFeatManual) == \"c04134fd603ae115395b29dcabe9d0c66fbdc8a7\",\\\n",
    "    'incorrect value for sampleThreeOHEFeatManual'\n",
    "print(\"OK\")"
   ]
  },
  {
   "cell_type": "markdown",
   "metadata": {},
   "source": [
    "#### **(1d) Função de codificação OHE **\n",
    "\n",
    "#### Vamos criar uma função que gera um vetor esparso codificado por um dicionário de OHE. Ele deve fazer o procedimento similar ao exercício anterior."
   ]
  },
  {
   "cell_type": "code",
   "execution_count": 45,
   "metadata": {},
   "outputs": [
    {
     "name": "stdout",
     "output_type": "stream",
     "text": [
      "(7,[2,3],[1.0,1.0])\n"
     ]
    }
   ],
   "source": [
    "# EXERCICIO\n",
    "def oneHotEncoding(rawFeats, OHEDict, numOHEFeats):\n",
    "    \"\"\"Produce a one-hot-encoding from a list of features and an OHE dictionary.\n",
    "\n",
    "    Note:\n",
    "        You should ensure that the indices used to create a SparseVector are sorted.\n",
    "\n",
    "    Args:\n",
    "        rawFeats (list of (int, str)): The features corresponding to a single observation.  Each\n",
    "            feature consists of a tuple of featureID and the feature's value. (e.g. sampleOne)\n",
    "        OHEDict (dict): A mapping of (featureID, value) to unique integer.\n",
    "        numOHEFeats (int): The total number of unique OHE features (combinations of featureID and\n",
    "            value).\n",
    "\n",
    "    Returns:\n",
    "        SparseVector: A SparseVector of length numOHEFeats with indicies equal to the unique\n",
    "            identifiers for the (featureID, value) combinations that occur in the observation and\n",
    "            with values equal to 1.0.\n",
    "    \"\"\"\n",
    "    return SparseVector(numOHEFeats, [(OHEDict[(featID, value)],1) for (featID, value) in rawFeats])\n",
    "\n",
    "# Calculate the number of features in sampleOHEDictManual\n",
    "numSampleOHEFeats = len(sampleOHEDictManual)\n",
    "\n",
    "# Run oneHotEnoding on sampleOne\n",
    "sampleOneOHEFeat = oneHotEncoding(sampleOne, sampleOHEDictManual, numSampleOHEFeats)\n",
    "\n",
    "print (sampleOneOHEFeat)"
   ]
  },
  {
   "cell_type": "code",
   "execution_count": 46,
   "metadata": {},
   "outputs": [
    {
     "name": "stdout",
     "output_type": "stream",
     "text": [
      "OK\n",
      "OK\n",
      "OK\n"
     ]
    }
   ],
   "source": [
    "# TEST Define an OHE Function (1d)\n",
    "assert sampleOneOHEFeat == sampleOneOHEFeatManual, \\\n",
    "                        'sampleOneOHEFeat should equal sampleOneOHEFeatManual'\n",
    "print (\"OK\")\n",
    "assert sampleOneOHEFeat == SparseVector(7, [2,3], [1.0,1.0]), \\\n",
    "                        'incorrect value for sampleOneOHEFeat'\n",
    "print (\"OK\")\n",
    "assert oneHotEncoding([(1, 'black'), (0, 'mouse')], sampleOHEDictManual,\n",
    "                                 numSampleOHEFeats) == SparseVector(7, [2,3], [1.0,1.0]), \\\n",
    "                        'incorrect value for oneHotEncoding'\n",
    "print (\"OK\")"
   ]
  },
  {
   "cell_type": "markdown",
   "metadata": {},
   "source": [
    "#### **(1e) Aplicar OHE em uma base de dados **\n",
    "\n",
    "#### Finalmente, use a função da parte (1d) para criar atributos OHE para todos os 3 objetos da base de dados artificial."
   ]
  },
  {
   "cell_type": "code",
   "execution_count": 47,
   "metadata": {},
   "outputs": [
    {
     "name": "stdout",
     "output_type": "stream",
     "text": [
      "[SparseVector(7, {2: 1.0, 3: 1.0}), SparseVector(7, {1: 1.0, 4: 1.0, 5: 1.0}), SparseVector(7, {0: 1.0, 3: 1.0, 6: 1.0})]\n"
     ]
    }
   ],
   "source": [
    "# EXERCICIO\n",
    "sampleOHEData = sampleDataRDD.map(lambda row: oneHotEncoding(row, sampleOHEDictManual,numSampleOHEFeats))\n",
    "print (sampleOHEData.collect())"
   ]
  },
  {
   "cell_type": "code",
   "execution_count": 48,
   "metadata": {},
   "outputs": [
    {
     "name": "stdout",
     "output_type": "stream",
     "text": [
      "OK\n",
      "OK\n",
      "OK\n",
      "OK\n"
     ]
    }
   ],
   "source": [
    "# TEST Apply OHE to a dataset (1e)\n",
    "sampleOHEDataValues = sampleOHEData.collect()\n",
    "assert len(sampleOHEDataValues) == 3, 'sampleOHEData should have three elements'\n",
    "print (\"OK\")\n",
    "assert sampleOHEDataValues[0] == SparseVector(7, {2: 1.0, 3: 1.0}), 'incorrect OHE for first sample'\n",
    "print (\"OK\")\n",
    "assert sampleOHEDataValues[1] == SparseVector(7, {1: 1.0, 4: 1.0, 5: 1.0}), 'incorrect OHE for second sample'\n",
    "print (\"OK\")\n",
    "assert sampleOHEDataValues[2] == SparseVector(7, {0: 1.0, 3: 1.0, 6: 1.0}), 'incorrect OHE for third sample'\n",
    "print (\"OK\")"
   ]
  },
  {
   "cell_type": "markdown",
   "metadata": {},
   "source": [
    "### ** Part 2: Construindo um dicionário OHE **"
   ]
  },
  {
   "cell_type": "markdown",
   "metadata": {},
   "source": [
    "#### **(2a) Tupla RDD de `(IDatributo, categoria)` **\n",
    "\n",
    "#### Crie um RDD de pares distintos de `(IDatributo,  categoria)`. Em nossa base de dados você deve gerar `(0, 'bear')`, `(0, 'cat')`, `(0, 'mouse')`, `(1, 'black')`, `(1, 'tabby')`, `(2, 'mouse')`, `(2, 'salmon')`. Repare que `'black'` aparece duas vezes em nossa base de dados mas contribui apenas para um item do RDD: `(1, 'black')`, por outro lado `'mouse'` aparece duas vezes e contribui para dois itens: `(0, 'mouse')` and `(2, 'mouse')`.  \n",
    "\n",
    "#### Dica: use [flatMap](https://spark.apache.org/docs/latest/api/python/pyspark.html#pyspark.RDD.flatMap) e [distinct](https://spark.apache.org/docs/latest/api/python/pyspark.html#pyspark.RDD.distinct)."
   ]
  },
  {
   "cell_type": "code",
   "execution_count": 49,
   "metadata": {
    "collapsed": true
   },
   "outputs": [],
   "source": [
    "# EXERCICIO\n",
    "sampleDistinctFeats = (sampleDataRDD\n",
    "                       .flatMap(lambda row: row)\n",
    "                       .distinct())"
   ]
  },
  {
   "cell_type": "code",
   "execution_count": 50,
   "metadata": {},
   "outputs": [
    {
     "name": "stdout",
     "output_type": "stream",
     "text": [
      "OK\n"
     ]
    }
   ],
   "source": [
    "# TEST Pair RDD of (featureID, category) (2a)\n",
    "assert sorted(sampleDistinctFeats.collect()) == \\\n",
    "        [(0, 'bear'), (0, 'cat'), (0, 'mouse'), (1, 'black'),(1, 'tabby'), (2, 'mouse'), (2, 'salmon')],\\\n",
    "            'incorrect value for sampleDistinctFeats'\n",
    "print (\"OK\")"
   ]
  },
  {
   "cell_type": "markdown",
   "metadata": {},
   "source": [
    "#### ** (2b) Dicionário OHE de atributos únicos **\n",
    "\n",
    "#### Agora, vamos criar um RDD de tuplas para cada `(IDatributo, categoria)` em `sampleDistinctFeats`. A chave da tupla é a própria tupla original, e o valor será um inteiro variando de 0 até número de tuplas - 1. \n",
    "\n",
    "#### Em seguida, converta essa `RDD` em um dicionário, utilizando o comando `collectAsMap`. \n",
    "\n",
    "#### Use o comando  [zipWithIndex](https://spark.apache.org/docs/latest/api/python/pyspark.html#pyspark.RDD.zipWithIndex) seguido de [collectAsMap](https://spark.apache.org/docs/latest/api/python/pyspark.html#pyspark.RDD.collectAsMap).\n"
   ]
  },
  {
   "cell_type": "code",
   "execution_count": 51,
   "metadata": {},
   "outputs": [
    {
     "name": "stdout",
     "output_type": "stream",
     "text": [
      "{(1, 'tabby'): 0, (2, 'mouse'): 1, (0, 'mouse'): 2, (2, 'salmon'): 3, (1, 'black'): 4, (0, 'bear'): 5, (0, 'cat'): 6}\n"
     ]
    }
   ],
   "source": [
    "# EXERCICIO\n",
    "sampleOHEDict = (sampleDistinctFeats\n",
    "                           .zipWithIndex()\n",
    "                           .collectAsMap())\n",
    "print (sampleOHEDict)"
   ]
  },
  {
   "cell_type": "code",
   "execution_count": 52,
   "metadata": {},
   "outputs": [
    {
     "name": "stdout",
     "output_type": "stream",
     "text": [
      "OK\n",
      "OK\n"
     ]
    }
   ],
   "source": [
    "# TEST OHE Dictionary from distinct features (2b)\n",
    "assert sorted(sampleOHEDict.keys()) == \\\n",
    "        [(0, 'bear'), (0, 'cat'), (0, 'mouse'), (1, 'black'), (1, 'tabby'), (2, 'mouse'), (2, 'salmon')],\\\n",
    "            'sampleOHEDict has unexpected keys'\n",
    "print (\"OK\")\n",
    "assert sorted(sampleOHEDict.values()) == list(range(7)), 'sampleOHEDict has unexpected values'\n",
    "print (\"OK\")"
   ]
  },
  {
   "cell_type": "markdown",
   "metadata": {},
   "source": [
    "#### **(2c) Criação automática do dicionário OHE **\n",
    "\n",
    "#### Agora use os códigos dos exercícios anteriores para criar uma função que retorna um dicionário OHE a partir dos atributos categóricos de uma base de dados."
   ]
  },
  {
   "cell_type": "code",
   "execution_count": 53,
   "metadata": {},
   "outputs": [
    {
     "name": "stdout",
     "output_type": "stream",
     "text": [
      "{(1, 'tabby'): 0, (2, 'mouse'): 1, (0, 'mouse'): 2, (2, 'salmon'): 3, (1, 'black'): 4, (0, 'bear'): 5, (0, 'cat'): 6}\n"
     ]
    }
   ],
   "source": [
    "# EXERCICIO\n",
    "def createOneHotDict(inputData):\n",
    "    \"\"\"Creates a one-hot-encoder dictionary based on the input data.\n",
    "\n",
    "    Args:\n",
    "        inputData (RDD of lists of (int, str)): An RDD of observations where each observation is\n",
    "            made up of a list of (featureID, value) tuples.\n",
    "\n",
    "    Returns:\n",
    "        dict: A dictionary where the keys are (featureID, value) tuples and map to values that are\n",
    "            unique integers.\n",
    "    \"\"\"\n",
    "    return (inputData\n",
    "             .flatMap(lambda row: row)\n",
    "             .distinct()\n",
    "             .zipWithIndex()\n",
    "             .collectAsMap()\n",
    "             )\n",
    "\n",
    "sampleOHEDictAuto = createOneHotDict(sampleDataRDD)\n",
    "print (sampleOHEDictAuto)"
   ]
  },
  {
   "cell_type": "code",
   "execution_count": 54,
   "metadata": {},
   "outputs": [
    {
     "name": "stdout",
     "output_type": "stream",
     "text": [
      "OK\n",
      "OK\n"
     ]
    }
   ],
   "source": [
    "# TEST Automated creation of an OHE dictionary (2c)\n",
    "assert sorted(sampleOHEDictAuto.keys()) == \\\n",
    "        [(0, 'bear'), (0, 'cat'), (0, 'mouse'), (1, 'black'), (1, 'tabby'), (2, 'mouse'), (2, 'salmon')],\\\n",
    "            'sampleOHEDictAuto has unexpected keys'\n",
    "print (\"OK\")\n",
    "assert sorted(sampleOHEDictAuto.values()) == list(range(7)), 'sampleOHEDictAuto has unexpected values'\n",
    "print (\"OK\")"
   ]
  },
  {
   "cell_type": "markdown",
   "metadata": {},
   "source": [
    "### **Part 3: Parse CTR data and generate OHE features**"
   ]
  },
  {
   "cell_type": "markdown",
   "metadata": {},
   "source": [
    "#### Antes de começar essa parte, vamos carregar a base de dados e verificar o formato dela.\n",
    "\n",
    "#### Repare que o primeiro campo é o rótulo de cada objeto, sendo 0 se o usuário não clicou no banner e 1 caso tenha clicado. O restante dos atributos ou são numéricos ou são strings representando categorias anônimas. Vamos tratar todos os atributos como categóricos."
   ]
  },
  {
   "cell_type": "code",
   "execution_count": 108,
   "metadata": {},
   "outputs": [
    {
     "name": "stdout",
     "output_type": "stream",
     "text": [
      "['0,1,1,5,0,1382,4,15,2,181,1,2,,2,68fd1e64,80e26c9b,fb936136,7b4723c4,25c83c98,7e0ccccf,de7995b8,1f89b562,a73ee510,a8cd5504,b2cb9c98,37c9c164,2824a5f6,1adce6ef,8ba8b39a,891b62e7,e5ba7672,f54016b9,21ddcdc9,b1252a9d,07b5194c,,3a171ecb,c5c50484,e8b83407,9727dd16']\n"
     ]
    }
   ],
   "source": [
    "import os.path\n",
    "\n",
    "fileName = os.path.join('dac_sample.txt')\n",
    "\n",
    "if os.path.isfile(fileName):\n",
    "    rawData = (sc\n",
    "               .textFile(fileName, 2)\n",
    "               .map(lambda x: x.replace('\\t', ',')))  # work with either ',' or '\\t' separated data\n",
    "    print (rawData.take(1))"
   ]
  },
  {
   "cell_type": "markdown",
   "metadata": {},
   "source": [
    "#### **(3a) Carregando e dividindo os dados **\n",
    "\n",
    "#### Da mesma forma que no notebook anterior, vamos dividir os dados entre treinamento, validação e teste. Use o método [randomSplit](https://spark.apache.org/docs/latest/api/python/pyspark.html#pyspark.RDD.randomSplit) com os pesos (weights) e semente aleatória (seed) especificados para criar os conjuntos, então faça o [cache](https://spark.apache.org/docs/latest/api/python/pyspark.html#pyspark.RDD.cache) de cada RDD, pois utilizaremos cada uma delas com frequência durante esse exercício."
   ]
  },
  {
   "cell_type": "code",
   "execution_count": 56,
   "metadata": {},
   "outputs": [
    {
     "name": "stdout",
     "output_type": "stream",
     "text": [
      "80053 9941 10006 100000\n",
      "['0,1,1,5,0,1382,4,15,2,181,1,2,,2,68fd1e64,80e26c9b,fb936136,7b4723c4,25c83c98,7e0ccccf,de7995b8,1f89b562,a73ee510,a8cd5504,b2cb9c98,37c9c164,2824a5f6,1adce6ef,8ba8b39a,891b62e7,e5ba7672,f54016b9,21ddcdc9,b1252a9d,07b5194c,,3a171ecb,c5c50484,e8b83407,9727dd16']\n"
     ]
    }
   ],
   "source": [
    "# EXERCICIO\n",
    "weights = [.8, .1, .1]\n",
    "seed = 42\n",
    "# Use randomSplit with weights and seed\n",
    "rawTrainData, rawValidationData, rawTestData = rawData.randomSplit(weights, seed)\n",
    "# Cache the data\n",
    "rawTrainData.cache()\n",
    "rawValidationData.cache()\n",
    "rawTestData.cache()\n",
    "\n",
    "nTrain = rawTrainData.count()\n",
    "nVal = rawValidationData.count()\n",
    "nTest = rawTestData.count()\n",
    "print (nTrain, nVal, nTest, nTrain + nVal + nTest)\n",
    "print (rawData.take(1))"
   ]
  },
  {
   "cell_type": "code",
   "execution_count": 57,
   "metadata": {},
   "outputs": [
    {
     "name": "stdout",
     "output_type": "stream",
     "text": [
      "OK\n"
     ]
    },
    {
     "ename": "AssertionError",
     "evalue": "incorrect value for nTrain",
     "output_type": "error",
     "traceback": [
      "\u001b[0;31m---------------------------------------------------------------------------\u001b[0m",
      "\u001b[0;31mAssertionError\u001b[0m                            Traceback (most recent call last)",
      "\u001b[0;32m<ipython-input-57-f5d9ee990e94>\u001b[0m in \u001b[0;36m<module>\u001b[0;34m()\u001b[0m\n\u001b[1;32m      3\u001b[0m \u001b[0mprint\u001b[0m \u001b[0;34m(\u001b[0m\u001b[0;34m\"OK\"\u001b[0m\u001b[0;34m)\u001b[0m\u001b[0;34m\u001b[0m\u001b[0m\n\u001b[1;32m      4\u001b[0m \u001b[0;31m#80053\u001b[0m\u001b[0;34m\u001b[0m\u001b[0;34m\u001b[0m\u001b[0m\n\u001b[0;32m----> 5\u001b[0;31m \u001b[0;32massert\u001b[0m \u001b[0mnTrain\u001b[0m \u001b[0;34m==\u001b[0m \u001b[0;36m79911\u001b[0m\u001b[0;34m,\u001b[0m \u001b[0;34m'incorrect value for nTrain'\u001b[0m\u001b[0;34m\u001b[0m\u001b[0m\n\u001b[0m\u001b[1;32m      6\u001b[0m \u001b[0mprint\u001b[0m \u001b[0;34m(\u001b[0m\u001b[0;34m\"OK\"\u001b[0m\u001b[0;34m)\u001b[0m\u001b[0;34m\u001b[0m\u001b[0m\n\u001b[1;32m      7\u001b[0m \u001b[0;31m#9941\u001b[0m\u001b[0;34m\u001b[0m\u001b[0;34m\u001b[0m\u001b[0m\n",
      "\u001b[0;31mAssertionError\u001b[0m: incorrect value for nTrain"
     ]
    }
   ],
   "source": [
    "# TEST Loading and splitting the data (3a)\n",
    "assert all([rawTrainData.is_cached, rawValidationData.is_cached, rawTestData.is_cached]) == True,\\\n",
    "            'you must cache the split data'\n",
    "print (\"OK\")\n",
    "#80053\n",
    "assert nTrain == 79911, 'incorrect value for nTrain'\n",
    "print (\"OK\")\n",
    "#9941\n",
    "assert nVal == 10075, 'incorrect value for nVal'\n",
    "print (\"OK\")\n",
    "#10006\n",
    "assert nTest == 10014, 'incorrect value for nTest'\n",
    "print (\"OK\")"
   ]
  },
  {
   "cell_type": "markdown",
   "metadata": {},
   "source": [
    "#### ** (3b) Extração de atributos **\n",
    "\n",
    "#### Como próximo passo, crie uma função para ser aplicada em cada objeto do RDD para gerar uma RDD de tuplas (IDatributo, categoria). Ignore o primeiro campo, que é o rótulo e gere uma lista de tuplas para os atributos seguintes. Utilize o comando [enumerate](https://docs.python.org/2/library/functions.html#enumerate) para criar essas tuplas."
   ]
  },
  {
   "cell_type": "code",
   "execution_count": 58,
   "metadata": {},
   "outputs": [
    {
     "name": "stdout",
     "output_type": "stream",
     "text": [
      "864\n"
     ]
    }
   ],
   "source": [
    "# EXERCICIO\n",
    "def parsePoint(point):\n",
    "    \"\"\"Converts a comma separated string into a list of (featureID, value) tuples.\n",
    "\n",
    "    Note:\n",
    "        featureIDs should start at 0 and increase to the number of features - 1.\n",
    "\n",
    "    Args:\n",
    "        point (str): A comma separated string where the first value is the label and the rest\n",
    "            are features.\n",
    "\n",
    "    Returns:\n",
    "        list: A list of (featureID, value) tuples.\n",
    "    \"\"\"\n",
    "    feats = point.split(',')[1:]\n",
    "    return [(idx, value) for (idx, value) in enumerate(feats)]\n",
    "\n",
    "\n",
    "parsedTrainFeat = rawTrainData.map(parsePoint)\n",
    "\n",
    "numCategories = (parsedTrainFeat\n",
    "                 .flatMap(lambda x: x)\n",
    "                 .distinct()\n",
    "                 .map(lambda x: (x[0], 1))\n",
    "                 .reduceByKey(lambda x, y: x + y)\n",
    "                 .sortByKey()\n",
    "                 .collect())\n",
    "\n",
    "print (numCategories[2][1])"
   ]
  },
  {
   "cell_type": "code",
   "execution_count": 59,
   "metadata": {},
   "outputs": [
    {
     "name": "stdout",
     "output_type": "stream",
     "text": [
      "OK\n"
     ]
    },
    {
     "ename": "AssertionError",
     "evalue": "incorrect implementation of parsePoint",
     "output_type": "error",
     "traceback": [
      "\u001b[0;31m---------------------------------------------------------------------------\u001b[0m",
      "\u001b[0;31mAssertionError\u001b[0m                            Traceback (most recent call last)",
      "\u001b[0;32m<ipython-input-59-a90d1b194787>\u001b[0m in \u001b[0;36m<module>\u001b[0;34m()\u001b[0m\n\u001b[1;32m      2\u001b[0m \u001b[0;32massert\u001b[0m \u001b[0mnumCategories\u001b[0m\u001b[0;34m[\u001b[0m\u001b[0;36m32\u001b[0m\u001b[0;34m]\u001b[0m\u001b[0;34m[\u001b[0m\u001b[0;36m1\u001b[0m\u001b[0;34m]\u001b[0m \u001b[0;34m==\u001b[0m \u001b[0;36m4\u001b[0m\u001b[0;34m,\u001b[0m \u001b[0;34m'incorrect implementation of parsePoint'\u001b[0m\u001b[0;34m\u001b[0m\u001b[0m\n\u001b[1;32m      3\u001b[0m \u001b[0mprint\u001b[0m \u001b[0;34m(\u001b[0m\u001b[0;34m\"OK\"\u001b[0m\u001b[0;34m)\u001b[0m\u001b[0;34m\u001b[0m\u001b[0m\n\u001b[0;32m----> 4\u001b[0;31m \u001b[0;32massert\u001b[0m \u001b[0mnumCategories\u001b[0m\u001b[0;34m[\u001b[0m\u001b[0;36m2\u001b[0m\u001b[0;34m]\u001b[0m\u001b[0;34m[\u001b[0m\u001b[0;36m1\u001b[0m\u001b[0;34m]\u001b[0m \u001b[0;34m==\u001b[0m \u001b[0;36m855\u001b[0m\u001b[0;34m,\u001b[0m \u001b[0;34m'incorrect implementation of parsePoint'\u001b[0m\u001b[0;34m\u001b[0m\u001b[0m\n\u001b[0m\u001b[1;32m      5\u001b[0m \u001b[0mprint\u001b[0m \u001b[0;34m(\u001b[0m\u001b[0;34m\"OK\"\u001b[0m\u001b[0;34m)\u001b[0m\u001b[0;34m\u001b[0m\u001b[0m\n",
      "\u001b[0;31mAssertionError\u001b[0m: incorrect implementation of parsePoint"
     ]
    }
   ],
   "source": [
    "# TEST Extract features (3b)\n",
    "assert numCategories[32][1] == 4, 'incorrect implementation of parsePoint'\n",
    "print (\"OK\")\n",
    "assert numCategories[2][1] == 855, 'incorrect implementation of parsePoint'\n",
    "print (\"OK\")"
   ]
  },
  {
   "cell_type": "markdown",
   "metadata": {},
   "source": [
    "#### **(3c) Crie o dicionário de OHE dessa base de dados **\n",
    "\n",
    "#### Note que a função parsePoint retorna um objeto em forma de lista `(IDatributo, categoria)`, que é o mesmo formato utilizado pela função `createOneHotDict`. Utilize o RDD `parsedTrainFeat` para criar um dicionário OHE."
   ]
  },
  {
   "cell_type": "code",
   "execution_count": 66,
   "metadata": {},
   "outputs": [
    {
     "name": "stdout",
     "output_type": "stream",
     "text": [
      "234358\n",
      "50\n"
     ]
    }
   ],
   "source": [
    "# EXERCICIO\n",
    "ctrOHEDict = createOneHotDict(parsedTrainFeat)\n",
    "numCtrOHEFeats = len(ctrOHEDict.keys())\n",
    "print (numCtrOHEFeats)\n",
    "print (ctrOHEDict[(0, '')])"
   ]
  },
  {
   "cell_type": "code",
   "execution_count": 68,
   "metadata": {},
   "outputs": [
    {
     "ename": "AssertionError",
     "evalue": "incorrect number of features in ctrOHEDict",
     "output_type": "error",
     "traceback": [
      "\u001b[0;31m---------------------------------------------------------------------------\u001b[0m",
      "\u001b[0;31mAssertionError\u001b[0m                            Traceback (most recent call last)",
      "\u001b[0;32m<ipython-input-68-13863a243fe5>\u001b[0m in \u001b[0;36m<module>\u001b[0;34m()\u001b[0m\n\u001b[1;32m      1\u001b[0m \u001b[0;31m# TEST Create an OHE dictionary from the dataset (3c)\u001b[0m\u001b[0;34m\u001b[0m\u001b[0;34m\u001b[0m\u001b[0m\n\u001b[0;32m----> 2\u001b[0;31m \u001b[0;32massert\u001b[0m \u001b[0mnumCtrOHEFeats\u001b[0m \u001b[0;34m==\u001b[0m \u001b[0;36m233286\u001b[0m\u001b[0;34m,\u001b[0m \u001b[0;34m'incorrect number of features in ctrOHEDict'\u001b[0m\u001b[0;34m\u001b[0m\u001b[0m\n\u001b[0m\u001b[1;32m      3\u001b[0m \u001b[0mprint\u001b[0m \u001b[0;34m(\u001b[0m\u001b[0;34m\"OK\"\u001b[0m\u001b[0;34m)\u001b[0m\u001b[0;34m\u001b[0m\u001b[0m\n\u001b[1;32m      4\u001b[0m \u001b[0;32massert\u001b[0m \u001b[0;34m(\u001b[0m\u001b[0;36m0\u001b[0m\u001b[0;34m,\u001b[0m \u001b[0;34m''\u001b[0m\u001b[0;34m)\u001b[0m \u001b[0;32min\u001b[0m \u001b[0mctrOHEDict\u001b[0m \u001b[0;34m==\u001b[0m \u001b[0;32mTrue\u001b[0m\u001b[0;34m,\u001b[0m \u001b[0;34m'incorrect features in ctrOHEDict'\u001b[0m\u001b[0;34m\u001b[0m\u001b[0m\n\u001b[1;32m      5\u001b[0m \u001b[0mprint\u001b[0m \u001b[0;34m(\u001b[0m\u001b[0;34m\"OK\"\u001b[0m\u001b[0;34m)\u001b[0m\u001b[0;34m\u001b[0m\u001b[0m\n",
      "\u001b[0;31mAssertionError\u001b[0m: incorrect number of features in ctrOHEDict"
     ]
    }
   ],
   "source": [
    "# TEST Create an OHE dictionary from the dataset (3c)\n",
    "assert numCtrOHEFeats == 233286, 'incorrect number of features in ctrOHEDict'\n",
    "print (\"OK\")\n",
    "assert (0, '') in ctrOHEDict == True, 'incorrect features in ctrOHEDict'\n",
    "print (\"OK\")"
   ]
  },
  {
   "cell_type": "markdown",
   "metadata": {},
   "source": [
    "#### ** (3d) Aplicando OHE à base de dados **\n",
    "\n",
    "#### Agora vamos usar o dicionário OHE para criar um RDD de objetos [LabeledPoint](http://spark.apache.org/docs/1.3.1/api/python/pyspark.mllib.html#pyspark.mllib.regression.LabeledPoint) usando atributos OHE. Complete a função `parseOHEPoint`. Dica: essa função é uma extensão da função `parsePoint` criada anteriormente e que usa a função `oneHotEncoding`."
   ]
  },
  {
   "cell_type": "code",
   "execution_count": 69,
   "metadata": {
    "collapsed": true
   },
   "outputs": [],
   "source": [
    "from pyspark.mllib.regression import LabeledPoint"
   ]
  },
  {
   "cell_type": "code",
   "execution_count": 70,
   "metadata": {},
   "outputs": [
    {
     "name": "stdout",
     "output_type": "stream",
     "text": [
      "[LabeledPoint(0.0, (234358,[0,1,2,3,4,5,6,7,8,9,10,11,12,13,14,15,16,17,117215,117216,117217,117218,117219,117220,117221,117222,117223,117224,117225,117226,117227,117228,117229,117230,117231,117232,117233,117234,117235],[1.0,1.0,1.0,1.0,1.0,1.0,1.0,1.0,1.0,1.0,1.0,1.0,1.0,1.0,1.0,1.0,1.0,1.0,1.0,1.0,1.0,1.0,1.0,1.0,1.0,1.0,1.0,1.0,1.0,1.0,1.0,1.0,1.0,1.0,1.0,1.0,1.0,1.0,1.0]))]\n"
     ]
    }
   ],
   "source": [
    "# EXERCICIO\n",
    "def parseOHEPoint(point, OHEDict, numOHEFeats):\n",
    "    \"\"\"Obtain the label and feature vector for this raw observation.\n",
    "\n",
    "    Note:\n",
    "        You must use the function `oneHotEncoding` in this implementation or later portions\n",
    "        of this lab may not function as expected.\n",
    "\n",
    "    Args:\n",
    "        point (str): A comma separated string where the first value is the label and the rest\n",
    "            are features.\n",
    "        OHEDict (dict of (int, str) to int): Mapping of (featureID, value) to unique integer.\n",
    "        numOHEFeats (int): The number of unique features in the training dataset.\n",
    "\n",
    "    Returns:\n",
    "        LabeledPoint: Contains the label for the observation and the one-hot-encoding of the\n",
    "            raw features based on the provided OHE dictionary.\n",
    "    \"\"\"\n",
    "    return LabeledPoint(point.split(',')[0],oneHotEncoding(parsePoint(point), OHEDict, numCtrOHEFeats))\n",
    "\n",
    "OHETrainData = rawTrainData.map(lambda point: parseOHEPoint(point, ctrOHEDict, numCtrOHEFeats))\n",
    "OHETrainData.cache()\n",
    "print (OHETrainData.take(1))\n",
    "\n",
    "# Check that oneHotEncoding function was used in parseOHEPoint\n",
    "backupOneHot = oneHotEncoding\n",
    "oneHotEncoding = None\n",
    "withOneHot = False\n",
    "try: parseOHEPoint(rawTrainData.take(1)[0], ctrOHEDict, numCtrOHEFeats)\n",
    "except TypeError: withOneHot = True\n",
    "oneHotEncoding = backupOneHot"
   ]
  },
  {
   "cell_type": "code",
   "execution_count": 71,
   "metadata": {},
   "outputs": [
    {
     "name": "stdout",
     "output_type": "stream",
     "text": [
      "OK\n",
      "OK\n"
     ]
    }
   ],
   "source": [
    "# TEST Apply OHE to the dataset (3d)\n",
    "numNZ = sum(parsedTrainFeat.map(lambda x: len(x)).take(5))\n",
    "numNZAlt = sum(OHETrainData.map(lambda lp: len(lp.features.indices)).take(5))\n",
    "assert numNZ == numNZAlt, 'incorrect implementation of parseOHEPoint'\n",
    "print (\"OK\")\n",
    "assert withOneHot == True, 'neHotEncoding not present in parseOHEPoint'\n",
    "print (\"OK\")"
   ]
  },
  {
   "cell_type": "markdown",
   "metadata": {},
   "source": [
    "#### **Visualização 1: Frequência dos Atributos **\n",
    "\n",
    "#### Vamos agora visualizar o número de vezes que cada um dos 233.286 atributos OHE aparecem na base de treino.  Para isso primeiro contabilizamos quantas vezes cada atributo aparece na base, então alocamos cada atributo em um balde de histograma. Os baldes tem tamanhos de potência de 2, então o primeiro balde conta os atributos que aparecem exatamente uma vez ( $ \\scriptsize 2^0 $ ), o segundo atributos que aparecem duas vezes ( $ \\scriptsize 2^1 $ ), o terceiro os atributos que aparecem de 3 a 4 vezes ( $ \\scriptsize 2^2 $ ), o quinto balde é para atributos que ocorrem de cinco a oito vezes ( $ \\scriptsize 2^3 $ ) e assim por diante. O gráfico de dispersão abaixo mostra o logarítmo do tamanho dos baldes versus o logarítmo da frequência de atributos que caíram nesse balde."
   ]
  },
  {
   "cell_type": "code",
   "execution_count": 72,
   "metadata": {},
   "outputs": [
    {
     "name": "stdout",
     "output_type": "stream",
     "text": [
      "[(8, 11480), (2, 23578), (16, 7750), (128, 1504), (64, 2663), (256, 733), (32, 4792), (512, 416), (1024, 251), (4, 16870), (1, 164030)]\n"
     ]
    }
   ],
   "source": [
    "def bucketFeatByCount(featCount):\n",
    "    \"\"\"Bucket the counts by powers of two.\"\"\"\n",
    "    for i in range(11):\n",
    "        size = 2 ** i\n",
    "        if featCount <= size:\n",
    "            return size\n",
    "    return -1\n",
    "\n",
    "featCounts = (OHETrainData\n",
    "              .flatMap(lambda lp: lp.features.indices)\n",
    "              .map(lambda x: (x, 1))\n",
    "              .reduceByKey(lambda x, y: x + y))\n",
    "featCountsBuckets = (featCounts\n",
    "                     .map(lambda x: (bucketFeatByCount(x[1]), 1))\n",
    "                     .filter(lambda x: x[0] != -1)\n",
    "                     .reduceByKey(lambda x, y: x + y)\n",
    "                     .collect())\n",
    "print (featCountsBuckets)"
   ]
  },
  {
   "cell_type": "code",
   "execution_count": 73,
   "metadata": {},
   "outputs": [
    {
     "data": {
      "image/png": "[encoded data removed]",
      "text/plain": [
       "<matplotlib.figure.Figure at 0x7f4fc8fd4400>"
      ]
     },
     "metadata": {},
     "output_type": "display_data"
    }
   ],
   "source": [
    "import matplotlib.pyplot as plt\n",
    "\n",
    "x, y = zip(*featCountsBuckets)\n",
    "x, y = np.log(x), np.log(y)\n",
    "\n",
    "def preparePlot(xticks, yticks, figsize=(10.5, 6), hideLabels=False, gridColor='#999999',\n",
    "                gridWidth=1.0):\n",
    "    \"\"\"Template for generating the plot layout.\"\"\"\n",
    "    plt.close()\n",
    "    fig, ax = plt.subplots(figsize=figsize, facecolor='white', edgecolor='white')\n",
    "    ax.axes.tick_params(labelcolor='#999999', labelsize='10')\n",
    "    for axis, ticks in [(ax.get_xaxis(), xticks), (ax.get_yaxis(), yticks)]:\n",
    "        axis.set_ticks_position('none')\n",
    "        axis.set_ticks(ticks)\n",
    "        axis.label.set_color('#999999')\n",
    "        if hideLabels: axis.set_ticklabels([])\n",
    "    plt.grid(color=gridColor, linewidth=gridWidth, linestyle='-')\n",
    "    map(lambda position: ax.spines[position].set_visible(False), ['bottom', 'top', 'left', 'right'])\n",
    "    return fig, ax\n",
    "\n",
    "# generate layout and plot data\n",
    "fig, ax = preparePlot(np.arange(0, 10, 1), np.arange(4, 14, 2))\n",
    "ax.set_xlabel(r'$\\log_e(bucketSize)$'), ax.set_ylabel(r'$\\log_e(countInBucket)$')\n",
    "plt.scatter(x, y, s=14**2, c='#d6ebf2', edgecolors='#8cbfd0', alpha=0.75)\n",
    "plt.show()"
   ]
  },
  {
   "cell_type": "markdown",
   "metadata": {},
   "source": [
    "#### **(3e) Atributos não observados **\n",
    "\n",
    "#### Naturalmente precisaremos aplicar esse mesmo procedimento para as outras bases (validação e teste), porém nessas bases podem existir atributos não observados na base de treino.\n",
    "\n",
    "#### Precisamos adaptar a função `oneHotEncoding` para ignorar os atributos que não existem no dicionário."
   ]
  },
  {
   "cell_type": "code",
   "execution_count": 74,
   "metadata": {},
   "outputs": [
    {
     "name": "stdout",
     "output_type": "stream",
     "text": [
      "[LabeledPoint(0.0, (234358,[2,8,15,21,45,49,50,52,61,96,135,160,164,671,1355,5140,5141,5142,117223,117226,117238,117242,117258,117261,117262,117267,117269,117284,117287,118378,119236,120375,122236,122237,122238,122239,122240,122241,170030],[1.0,1.0,1.0,1.0,1.0,1.0,1.0,1.0,1.0,1.0,1.0,1.0,1.0,1.0,1.0,1.0,1.0,1.0,1.0,1.0,1.0,1.0,1.0,1.0,1.0,1.0,1.0,1.0,1.0,1.0,1.0,1.0,1.0,1.0,1.0,1.0,1.0,1.0,1.0]))]\n"
     ]
    }
   ],
   "source": [
    "# EXERCICIO\n",
    "def oneHotEncoding(rawFeats, OHEDict, numOHEFeats):\n",
    "    \"\"\"Produce a one-hot-encoding from a list of features and an OHE dictionary.\n",
    "\n",
    "    Note:\n",
    "        If a (featureID, value) tuple doesn't have a corresponding key in OHEDict it should be\n",
    "        ignored.\n",
    "\n",
    "    Args:\n",
    "        rawFeats (list of (int, str)): The features corresponding to a single observation.  Each\n",
    "            feature consists of a tuple of featureID and the feature's value. (e.g. sampleOne)\n",
    "        OHEDict (dict): A mapping of (featureID, value) to unique integer.\n",
    "        numOHEFeats (int): The total number of unique OHE features (combinations of featureID and\n",
    "            value).\n",
    "\n",
    "    Returns:\n",
    "        SparseVector: A SparseVector of length numOHEFeats with indicies equal to the unique\n",
    "            identifiers for the (featureID, value) combinations that occur in the observation and\n",
    "            with values equal to 1.0.\n",
    "    \"\"\"\n",
    "    validFeatureTuples = []\n",
    "    for (featID, value) in rawFeats:\n",
    "        try:\n",
    "            validFeatureTuples.append((OHEDict[(featID, value)],1))\n",
    "        except KeyError:\n",
    "            pass\n",
    "    return SparseVector(numOHEFeats, validFeatureTuples)\n",
    "\n",
    "OHEValidationData = rawValidationData.map(lambda point: parseOHEPoint(point, ctrOHEDict, numCtrOHEFeats))\n",
    "OHEValidationData.cache()\n",
    "print (OHEValidationData.take(1))"
   ]
  },
  {
   "cell_type": "code",
   "execution_count": 75,
   "metadata": {},
   "outputs": [
    {
     "name": "stdout",
     "output_type": "stream",
     "text": [
      "367585\n"
     ]
    },
    {
     "ename": "AssertionError",
     "evalue": "incorrect number of features",
     "output_type": "error",
     "traceback": [
      "\u001b[0;31m---------------------------------------------------------------------------\u001b[0m",
      "\u001b[0;31mAssertionError\u001b[0m                            Traceback (most recent call last)",
      "\u001b[0;32m<ipython-input-75-a5819f323c18>\u001b[0m in \u001b[0;36m<module>\u001b[0;34m()\u001b[0m\n\u001b[1;32m      4\u001b[0m             .sum())\n\u001b[1;32m      5\u001b[0m \u001b[0mprint\u001b[0m\u001b[0;34m(\u001b[0m\u001b[0mnumNZVal\u001b[0m\u001b[0;34m)\u001b[0m\u001b[0;34m\u001b[0m\u001b[0m\n\u001b[0;32m----> 6\u001b[0;31m \u001b[0;32massert\u001b[0m \u001b[0mnumNZVal\u001b[0m \u001b[0;34m==\u001b[0m \u001b[0;36m372080\u001b[0m\u001b[0;34m,\u001b[0m \u001b[0;34m'incorrect number of features'\u001b[0m\u001b[0;34m\u001b[0m\u001b[0m\n\u001b[0m\u001b[1;32m      7\u001b[0m \u001b[0mprint\u001b[0m \u001b[0;34m(\u001b[0m\u001b[0;34m\"OK\"\u001b[0m\u001b[0;34m)\u001b[0m\u001b[0;34m\u001b[0m\u001b[0m\n",
      "\u001b[0;31mAssertionError\u001b[0m: incorrect number of features"
     ]
    }
   ],
   "source": [
    "# TEST Handling unseen features (3e)\n",
    "numNZVal = (OHEValidationData\n",
    "            .map(lambda lp: len(lp.features.indices))\n",
    "            .sum())\n",
    "print(numNZVal)\n",
    "assert numNZVal == 372080, 'incorrect number of features'\n",
    "print (\"OK\")"
   ]
  },
  {
   "cell_type": "markdown",
   "metadata": {},
   "source": [
    "### ** Part 4: Predição do CTR e avaliação da perda-log (logloss) **"
   ]
  },
  {
   "cell_type": "markdown",
   "metadata": {},
   "source": [
    "#### ** (4a) Regressão Logística **\n",
    "\n",
    "#### Um classificador que podemos utilizar nessa base de dados é a regressão logística, que nos dá a probabilidade de um evento de clique em banner ocorrer. Vamos utilizar a função  [LogisticRegressionWithSGD](https://spark.apache.org/docs/latest/api/python/pyspark.mllib.html#pyspark.mllib.classification.LogisticRegressionWithSGD) para treinar um modelo usando  `OHETrainData` com a configuração de parâmetros dada.  `LogisticRegressionWithSGD` retorna um [LogisticRegressionModel](https://spark.apache.org/docs/latest/api/python/pyspark.mllib.html#pyspark.mllib.regression.LogisticRegressionModel).  \n",
    "\n",
    "#### Em seguida, imprima  `LogisticRegressionModel.weights` e `LogisticRegressionModel.intercept` para verificar o modelo gerado. "
   ]
  },
  {
   "cell_type": "code",
   "execution_count": 76,
   "metadata": {
    "collapsed": true
   },
   "outputs": [],
   "source": [
    "from pyspark.mllib.classification import LogisticRegressionWithSGD\n",
    "\n",
    "# fixed hyperparameters\n",
    "numIters = 50\n",
    "stepSize = 10.\n",
    "regParam = 1e-6\n",
    "regType = 'l2'\n",
    "includeIntercept = True"
   ]
  },
  {
   "cell_type": "code",
   "execution_count": 77,
   "metadata": {},
   "outputs": [
    {
     "name": "stderr",
     "output_type": "stream",
     "text": [
      "/opt/spark/python/pyspark/mllib/classification.py:313: UserWarning: Deprecated in 2.0.0. Use ml.classification.LogisticRegression or LogisticRegressionWithLBFGS.\n",
      "  \"Deprecated in 2.0.0. Use ml.classification.LogisticRegression or \"\n"
     ]
    },
    {
     "name": "stdout",
     "output_type": "stream",
     "text": [
      "[-0.46297159426279577, -0.39040230182817892, -0.3871281985827924, -0.35815003494268316, -0.34963241495474701] 0.5616041364601837\n"
     ]
    }
   ],
   "source": [
    "# EXERCICIO\n",
    "model0 = LogisticRegressionWithSGD.train(OHETrainData,iterations=numIters,step=stepSize,regParam=regParam,\n",
    "                                  regType=regType,intercept=includeIntercept)\n",
    "sortedWeights = sorted(model0.weights)\n",
    "print (sortedWeights[:5], model0.intercept)"
   ]
  },
  {
   "cell_type": "code",
   "execution_count": 78,
   "metadata": {},
   "outputs": [
    {
     "ename": "AssertionError",
     "evalue": "incorrect value for model0.intercept",
     "output_type": "error",
     "traceback": [
      "\u001b[0;31m---------------------------------------------------------------------------\u001b[0m",
      "\u001b[0;31mAssertionError\u001b[0m                            Traceback (most recent call last)",
      "\u001b[0;32m<ipython-input-78-1effb9088fa4>\u001b[0m in \u001b[0;36m<module>\u001b[0;34m()\u001b[0m\n\u001b[1;32m      1\u001b[0m \u001b[0;31m# TEST Logistic regression (4a)\u001b[0m\u001b[0;34m\u001b[0m\u001b[0;34m\u001b[0m\u001b[0m\n\u001b[0;32m----> 2\u001b[0;31m \u001b[0;32massert\u001b[0m \u001b[0mnp\u001b[0m\u001b[0;34m.\u001b[0m\u001b[0mallclose\u001b[0m\u001b[0;34m(\u001b[0m\u001b[0mmodel0\u001b[0m\u001b[0;34m.\u001b[0m\u001b[0mintercept\u001b[0m\u001b[0;34m,\u001b[0m  \u001b[0;36m0.56455084025\u001b[0m\u001b[0;34m)\u001b[0m \u001b[0;34m==\u001b[0m \u001b[0;32mTrue\u001b[0m\u001b[0;34m,\u001b[0m \u001b[0;34m'incorrect value for model0.intercept'\u001b[0m\u001b[0;34m\u001b[0m\u001b[0m\n\u001b[0m\u001b[1;32m      3\u001b[0m \u001b[0mprint\u001b[0m \u001b[0;34m(\u001b[0m\u001b[0;34m\"OK\"\u001b[0m\u001b[0;34m)\u001b[0m\u001b[0;34m\u001b[0m\u001b[0m\n\u001b[1;32m      4\u001b[0m assert np.allclose(sortedWeights[0:5]) == [-0.45899236853575609, -0.37973707648623956, -0.36996558266753304,\n\u001b[1;32m      5\u001b[0m                  -0.36934962879928263, -0.32697945415010637], 'incorrect value for model0.weights'\n",
      "\u001b[0;31mAssertionError\u001b[0m: incorrect value for model0.intercept"
     ]
    }
   ],
   "source": [
    "# TEST Logistic regression (4a)\n",
    "assert np.allclose(model0.intercept,  0.56455084025) == True, 'incorrect value for model0.intercept'\n",
    "print (\"OK\")\n",
    "assert np.allclose(sortedWeights[0:5]) == [-0.45899236853575609, -0.37973707648623956, -0.36996558266753304,\n",
    "                 -0.36934962879928263, -0.32697945415010637], 'incorrect value for model0.weights'\n",
    "print (\"OK\")"
   ]
  },
  {
   "cell_type": "markdown",
   "metadata": {},
   "source": [
    "#### ** (4b) Log loss **\n",
    "\n",
    "#### Uma forma de avaliar um classificador binário é através do log-loss, definido como: $$  \\begin{align} \\scriptsize \\ell_{log}(p, y) = \\begin{cases} -\\log (p) & \\text{if } y = 1 \\\\\\ -\\log(1-p) & \\text{if } y = 0 \\end{cases} \\end{align} $$ onde $ \\scriptsize p$ é uma probabilidade entre 0 e 1 e  $ \\scriptsize y$ é o rótulo binário (0 ou 1). Log loss é um critério de avaliação muito utilizado quando deseja-se predizer eventos raros. Escreva uma função para calcular o log-loss, e avalie algumas entradas de amostra."
   ]
  },
  {
   "cell_type": "code",
   "execution_count": 81,
   "metadata": {},
   "outputs": [
    {
     "name": "stdout",
     "output_type": "stream",
     "text": [
      "0.6931471805599453\n",
      "0.6931471805599453\n",
      "0.01005033585350145\n",
      "4.605170185988091\n",
      "4.605170185988091\n",
      "0.01005033585350145\n",
      "25.328436022934504\n",
      "1.000000082745371e-11\n",
      "25.328435940194137\n"
     ]
    }
   ],
   "source": [
    "# EXERCICIO\n",
    "from math import log\n",
    "\n",
    "def computeLogLoss(p, y):\n",
    "    \"\"\"Calculates the value of log loss for a given probabilty and label.\n",
    "\n",
    "    Note:\n",
    "        log(0) is undefined, so when p is 0 we need to add a small value (epsilon) to it\n",
    "        and when p is 1 we need to subtract a small value (epsilon) from it.\n",
    "\n",
    "    Args:\n",
    "        p (float): A probabilty between 0 and 1.\n",
    "        y (int): A label.  Takes on the values 0 and 1.\n",
    "\n",
    "    Returns:\n",
    "        float: The log loss value.\n",
    "    \"\"\"\n",
    "    epsilon = 10e-12\n",
    "    if p == 0:\n",
    "        p += epsilon\n",
    "    elif p == 1:\n",
    "        p -= epsilon\n",
    "    if y == 1:\n",
    "        return -log(p)\n",
    "    else:\n",
    "        return -log(1 - p)\n",
    "\n",
    "print (computeLogLoss(.5, 1))\n",
    "print (computeLogLoss(.5, 0))\n",
    "print (computeLogLoss(.99, 1))\n",
    "print (computeLogLoss(.99, 0))\n",
    "print (computeLogLoss(.01, 1))\n",
    "print (computeLogLoss(.01, 0))\n",
    "print (computeLogLoss(0, 1))\n",
    "print (computeLogLoss(1, 1))\n",
    "print (computeLogLoss(1, 0))"
   ]
  },
  {
   "cell_type": "code",
   "execution_count": 82,
   "metadata": {},
   "outputs": [
    {
     "name": "stdout",
     "output_type": "stream",
     "text": [
      "OK\n",
      "OK\n"
     ]
    }
   ],
   "source": [
    "# TEST Log loss (4b)\n",
    "assert np.allclose([computeLogLoss(.5, 1), computeLogLoss(.01, 0), computeLogLoss(.01, 1)],\n",
    "                            [0.69314718056, 0.0100503358535, 4.60517018599]) == True, \\\n",
    "            'computeLogLoss is not correct'\n",
    "print (\"OK\")\n",
    "assert np.allclose([computeLogLoss(0, 1), computeLogLoss(1, 1), computeLogLoss(1, 0)],\n",
    "                            [25.3284360229, 1.00000008275e-11, 25.3284360229]) == True, \\\n",
    "            'computeLogLoss needs to bound p away from 0 and 1 by epsilon'\n",
    "print (\"OK\")"
   ]
  },
  {
   "cell_type": "markdown",
   "metadata": {},
   "source": [
    "#### ** (4c)  Baseline log loss **\n",
    "\n",
    "#### Agora, vamos utilizar a função da Parte (4b) para calcular um baseline da métrica de log-loss na nossa base de treino. Uma forma de calcular um baseline é predizer sempre a média dos rótulos observados. Primeiro calcule a média dos rótulos da base e, em seguida, calcule o log-loss médio para a base de treino."
   ]
  },
  {
   "cell_type": "code",
   "execution_count": 83,
   "metadata": {},
   "outputs": [
    {
     "name": "stdout",
     "output_type": "stream",
     "text": [
      "0.2271245299988764\n",
      "Baseline Train Logloss = 0.536\n",
      "\n"
     ]
    }
   ],
   "source": [
    "# EXERCICIO\n",
    "# Note that our dataset has a very high click-through rate by design\n",
    "# In practice click-through rate can be one to two orders of magnitude lower\n",
    "classOneFracTrain = OHETrainData.map(lambda lp: lp.label).mean()\n",
    "print (classOneFracTrain)\n",
    "\n",
    "logLossTrBase = OHETrainData.map(lambda lp: computeLogLoss(classOneFracTrain, lp.label)).mean()\n",
    "print ('Baseline Train Logloss = {0:.3f}\\n'.format(logLossTrBase))"
   ]
  },
  {
   "cell_type": "code",
   "execution_count": 84,
   "metadata": {},
   "outputs": [
    {
     "ename": "AssertionError",
     "evalue": "incorrect value for classOneFracTrain",
     "output_type": "error",
     "traceback": [
      "\u001b[0;31m---------------------------------------------------------------------------\u001b[0m",
      "\u001b[0;31mAssertionError\u001b[0m                            Traceback (most recent call last)",
      "\u001b[0;32m<ipython-input-84-34a358092edc>\u001b[0m in \u001b[0;36m<module>\u001b[0;34m()\u001b[0m\n\u001b[1;32m      1\u001b[0m \u001b[0;31m# TEST Baseline log loss (4c)\u001b[0m\u001b[0;34m\u001b[0m\u001b[0;34m\u001b[0m\u001b[0m\n\u001b[0;32m----> 2\u001b[0;31m \u001b[0;32massert\u001b[0m \u001b[0mnp\u001b[0m\u001b[0;34m.\u001b[0m\u001b[0mallclose\u001b[0m\u001b[0;34m(\u001b[0m\u001b[0mclassOneFracTrain\u001b[0m\u001b[0;34m,\u001b[0m \u001b[0;36m0.22717773523\u001b[0m\u001b[0;34m)\u001b[0m \u001b[0;34m==\u001b[0m \u001b[0;32mTrue\u001b[0m\u001b[0;34m,\u001b[0m\u001b[0;34m'incorrect value for classOneFracTrain'\u001b[0m\u001b[0;34m\u001b[0m\u001b[0m\n\u001b[0m\u001b[1;32m      3\u001b[0m \u001b[0mprint\u001b[0m \u001b[0;34m(\u001b[0m\u001b[0;34m\"OK\"\u001b[0m\u001b[0;34m)\u001b[0m\u001b[0;34m\u001b[0m\u001b[0m\n\u001b[1;32m      4\u001b[0m \u001b[0;32massert\u001b[0m \u001b[0mnp\u001b[0m\u001b[0;34m.\u001b[0m\u001b[0mallclose\u001b[0m\u001b[0;34m(\u001b[0m\u001b[0mlogLossTrBase\u001b[0m\u001b[0;34m,\u001b[0m \u001b[0;36m0.535844\u001b[0m\u001b[0;34m)\u001b[0m \u001b[0;34m==\u001b[0m \u001b[0;32mTrue\u001b[0m\u001b[0;34m,\u001b[0m\u001b[0;34m'incorrect value for logLossTrBase'\u001b[0m\u001b[0;34m\u001b[0m\u001b[0m\n\u001b[1;32m      5\u001b[0m \u001b[0mprint\u001b[0m \u001b[0;34m(\u001b[0m\u001b[0;34m\"OK\"\u001b[0m\u001b[0;34m)\u001b[0m\u001b[0;34m\u001b[0m\u001b[0m\n",
      "\u001b[0;31mAssertionError\u001b[0m: incorrect value for classOneFracTrain"
     ]
    }
   ],
   "source": [
    "# TEST Baseline log loss (4c)\n",
    "assert np.allclose(classOneFracTrain, 0.22717773523) == True,'incorrect value for classOneFracTrain'\n",
    "print (\"OK\")\n",
    "assert np.allclose(logLossTrBase, 0.535844) == True,'incorrect value for logLossTrBase'\n",
    "print (\"OK\")"
   ]
  },
  {
   "cell_type": "markdown",
   "metadata": {},
   "source": [
    "#### ** (4d) Probabilidade da Predição **\n",
    "\n",
    "#### O modelo gerado na Parte (4a) possui um método chamado `predict`, porém esse método retorna apenas 0's e 1's. Para calcular a probabilidade de um evento, vamos criar uma função `getP` que recebe como parâmetro o ponto x, o conjunto de pesos `w` e o `intercept`.\n",
    "\n",
    "#### Calcule o modelo de regressão linear nesse ponto x e aplique a  [função sigmoidal](http://en.wikipedia.org/wiki/Sigmoid_function) $ \\scriptsize \\sigma(t) = (1+ e^{-t})^{-1} $ para retornar a probabilidade da predição do objeto x.\n",
    "\n"
   ]
  },
  {
   "cell_type": "code",
   "execution_count": 85,
   "metadata": {},
   "outputs": [
    {
     "name": "stdout",
     "output_type": "stream",
     "text": [
      "[0.2803053591944974, 0.09484189257097103, 0.2828812845591476, 0.16384346875926237, 0.5695978450809587]\n"
     ]
    }
   ],
   "source": [
    "# EXERCICIO\n",
    "from math import exp #  exp(-t) = e^-t\n",
    "\n",
    "def getP(x, w, intercept):\n",
    "    \"\"\"Calculate the probability for an observation given a set of weights and intercept.\n",
    "\n",
    "    Note:\n",
    "        We'll bound our raw prediction between 20 and -20 for numerical purposes.\n",
    "\n",
    "    Args:\n",
    "        x (SparseVector): A vector with values of 1.0 for features that exist in this\n",
    "            observation and 0.0 otherwise.\n",
    "        w (DenseVector): A vector of weights (betas) for the model.\n",
    "        intercept (float): The model's intercept.\n",
    "\n",
    "    Returns:\n",
    "        float: A probability between 0 and 1.\n",
    "    \"\"\"\n",
    "    # calculate rawPrediction = w.x + intercept\n",
    "    rawPrediction = w.dot(x) + intercept\n",
    "\n",
    "    # Bound the raw prediction value\n",
    "    rawPrediction = min(rawPrediction, 20)\n",
    "    rawPrediction = max(rawPrediction, -20)\n",
    "    \n",
    "    # calculate (1+e^-rawPrediction)^-1\n",
    "    return 1/(1 + exp(-rawPrediction))\n",
    "\n",
    "trainingPredictions = OHETrainData.map(lambda lp: getP(lp.features, model0.weights, model0.intercept))\n",
    "\n",
    "print (trainingPredictions.take(5))"
   ]
  },
  {
   "cell_type": "code",
   "execution_count": 86,
   "metadata": {},
   "outputs": [
    {
     "ename": "AssertionError",
     "evalue": "incorrect value for trainingPredictions",
     "output_type": "error",
     "traceback": [
      "\u001b[0;31m---------------------------------------------------------------------------\u001b[0m",
      "\u001b[0;31mAssertionError\u001b[0m                            Traceback (most recent call last)",
      "\u001b[0;32m<ipython-input-86-1cb8ed219a10>\u001b[0m in \u001b[0;36m<module>\u001b[0;34m()\u001b[0m\n\u001b[1;32m      1\u001b[0m \u001b[0;31m# TEST Predicted probability (4d)\u001b[0m\u001b[0;34m\u001b[0m\u001b[0;34m\u001b[0m\u001b[0m\n\u001b[0;32m----> 2\u001b[0;31m \u001b[0;32massert\u001b[0m \u001b[0mnp\u001b[0m\u001b[0;34m.\u001b[0m\u001b[0mallclose\u001b[0m\u001b[0;34m(\u001b[0m\u001b[0mtrainingPredictions\u001b[0m\u001b[0;34m.\u001b[0m\u001b[0msum\u001b[0m\u001b[0;34m(\u001b[0m\u001b[0;34m)\u001b[0m\u001b[0;34m,\u001b[0m \u001b[0;36m18135.4834348\u001b[0m\u001b[0;34m)\u001b[0m \u001b[0;34m==\u001b[0m \u001b[0;32mTrue\u001b[0m\u001b[0;34m,\u001b[0m\u001b[0;34m'incorrect value for trainingPredictions'\u001b[0m\u001b[0;34m\u001b[0m\u001b[0m\n\u001b[0m\u001b[1;32m      3\u001b[0m \u001b[0mprint\u001b[0m \u001b[0;34m(\u001b[0m\u001b[0;34m\"OK\"\u001b[0m\u001b[0;34m)\u001b[0m\u001b[0;34m\u001b[0m\u001b[0m\n",
      "\u001b[0;31mAssertionError\u001b[0m: incorrect value for trainingPredictions"
     ]
    }
   ],
   "source": [
    "# TEST Predicted probability (4d)\n",
    "assert np.allclose(trainingPredictions.sum(), 18135.4834348) == True,'incorrect value for trainingPredictions'\n",
    "print (\"OK\")"
   ]
  },
  {
   "cell_type": "markdown",
   "metadata": {},
   "source": [
    "#### ** (4e) Avalie o modelo **\n",
    "\n",
    "#### Finalmente, crie uma função `evaluateResults` que calcula o log-loss médio do modelo em uma base de dados. Em seguida, execute essa função na nossa base de treino."
   ]
  },
  {
   "cell_type": "code",
   "execution_count": 87,
   "metadata": {},
   "outputs": [
    {
     "name": "stdout",
     "output_type": "stream",
     "text": [
      "OHE Features Train Logloss:\n",
      "\tBaseline = 0.536\n",
      "\tLogReg = 5.753\n"
     ]
    }
   ],
   "source": [
    "# EXERCICIO\n",
    "def evaluateResults(model, data):\n",
    "    \"\"\"Calculates the log loss for the data given the model.\n",
    "\n",
    "    Args:\n",
    "        model (LogisticRegressionModel): A trained logistic regression model.\n",
    "        data (RDD of LabeledPoint): Labels and features for each observation.\n",
    "\n",
    "    Returns:\n",
    "        float: Log loss for the data.\n",
    "    \"\"\"\n",
    "    return (data\n",
    "            .map(lambda lp: (lp.label, getP(lp.features, model.weights, model.intercept)))\n",
    "            .map(lambda x: computeLogLoss(x[0], x[1]))\n",
    "            .mean())\n",
    "\n",
    "logLossTrLR0 = evaluateResults(model0, OHETrainData)\n",
    "print ('OHE Features Train Logloss:\\n\\tBaseline = {0:.3f}\\n\\tLogReg = {1:.3f}'\n",
    "       .format(logLossTrBase, logLossTrLR0))"
   ]
  },
  {
   "cell_type": "code",
   "execution_count": 88,
   "metadata": {},
   "outputs": [
    {
     "ename": "AssertionError",
     "evalue": "incorrect value for logLossTrLR0",
     "output_type": "error",
     "traceback": [
      "\u001b[0;31m---------------------------------------------------------------------------\u001b[0m",
      "\u001b[0;31mAssertionError\u001b[0m                            Traceback (most recent call last)",
      "\u001b[0;32m<ipython-input-88-070a49f9d7f6>\u001b[0m in \u001b[0;36m<module>\u001b[0;34m()\u001b[0m\n\u001b[1;32m      1\u001b[0m \u001b[0;31m# TEST Evaluate the model (4e)\u001b[0m\u001b[0;34m\u001b[0m\u001b[0;34m\u001b[0m\u001b[0m\n\u001b[0;32m----> 2\u001b[0;31m \u001b[0;32massert\u001b[0m \u001b[0mnp\u001b[0m\u001b[0;34m.\u001b[0m\u001b[0mallclose\u001b[0m\u001b[0;34m(\u001b[0m\u001b[0mlogLossTrLR0\u001b[0m\u001b[0;34m,\u001b[0m \u001b[0;36m0.456903\u001b[0m\u001b[0;34m)\u001b[0m \u001b[0;34m==\u001b[0m \u001b[0;32mTrue\u001b[0m\u001b[0;34m,\u001b[0m\u001b[0;34m'incorrect value for logLossTrLR0'\u001b[0m\u001b[0;34m\u001b[0m\u001b[0m\n\u001b[0m\u001b[1;32m      3\u001b[0m \u001b[0mprint\u001b[0m \u001b[0;34m(\u001b[0m\u001b[0;34m\"OK\"\u001b[0m\u001b[0;34m)\u001b[0m\u001b[0;34m\u001b[0m\u001b[0m\n",
      "\u001b[0;31mAssertionError\u001b[0m: incorrect value for logLossTrLR0"
     ]
    }
   ],
   "source": [
    "# TEST Evaluate the model (4e)\n",
    "assert np.allclose(logLossTrLR0, 0.456903) == True,'incorrect value for logLossTrLR0'\n",
    "print (\"OK\")"
   ]
  },
  {
   "cell_type": "markdown",
   "metadata": {},
   "source": [
    "#### ** (4f) log-loss da validação **\n",
    "\n",
    "#### Agora aplique o modelo na nossa base de validação e calcule o log-loss médio, compare com o nosso baseline."
   ]
  },
  {
   "cell_type": "code",
   "execution_count": 89,
   "metadata": {},
   "outputs": [
    {
     "name": "stdout",
     "output_type": "stream",
     "text": [
      "OHE Features Validation Logloss:\n",
      "\tBaseline = 0.527\n",
      "\tLogReg = 5.562\n"
     ]
    }
   ],
   "source": [
    "# EXERCICIO\n",
    "logLossValBase = OHEValidationData.map(lambda lp: computeLogLoss(classOneFracTrain, lp.label)).mean()\n",
    "\n",
    "logLossValLR0 = evaluateResults(model0, OHEValidationData)\n",
    "print ('OHE Features Validation Logloss:\\n\\tBaseline = {0:.3f}\\n\\tLogReg = {1:.3f}'\n",
    "       .format(logLossValBase, logLossValLR0))"
   ]
  },
  {
   "cell_type": "code",
   "execution_count": 90,
   "metadata": {},
   "outputs": [
    {
     "ename": "AssertionError",
     "evalue": "incorrect value for logLossValBase",
     "output_type": "error",
     "traceback": [
      "\u001b[0;31m---------------------------------------------------------------------------\u001b[0m",
      "\u001b[0;31mAssertionError\u001b[0m                            Traceback (most recent call last)",
      "\u001b[0;32m<ipython-input-90-32c64ced6846>\u001b[0m in \u001b[0;36m<module>\u001b[0;34m()\u001b[0m\n\u001b[1;32m      1\u001b[0m \u001b[0;31m# TEST Validation log loss (4f)\u001b[0m\u001b[0;34m\u001b[0m\u001b[0;34m\u001b[0m\u001b[0m\n\u001b[0;32m----> 2\u001b[0;31m \u001b[0;32massert\u001b[0m \u001b[0mnp\u001b[0m\u001b[0;34m.\u001b[0m\u001b[0mallclose\u001b[0m\u001b[0;34m(\u001b[0m\u001b[0mlogLossValBase\u001b[0m\u001b[0;34m,\u001b[0m \u001b[0;36m0.527603\u001b[0m\u001b[0;34m)\u001b[0m \u001b[0;34m==\u001b[0m \u001b[0;32mTrue\u001b[0m\u001b[0;34m,\u001b[0m\u001b[0;34m'incorrect value for logLossValBase'\u001b[0m\u001b[0;34m\u001b[0m\u001b[0m\n\u001b[0m\u001b[1;32m      3\u001b[0m \u001b[0mprint\u001b[0m \u001b[0;34m(\u001b[0m\u001b[0;34m\"OK\"\u001b[0m\u001b[0;34m)\u001b[0m\u001b[0;34m\u001b[0m\u001b[0m\n\u001b[1;32m      4\u001b[0m \u001b[0;32massert\u001b[0m \u001b[0mnp\u001b[0m\u001b[0;34m.\u001b[0m\u001b[0mallclose\u001b[0m\u001b[0;34m(\u001b[0m\u001b[0mlogLossValLR0\u001b[0m\u001b[0;34m,\u001b[0m \u001b[0;36m0.456957\u001b[0m\u001b[0;34m)\u001b[0m \u001b[0;34m==\u001b[0m \u001b[0;32mTrue\u001b[0m\u001b[0;34m,\u001b[0m\u001b[0;34m'incorrect value for logLossValLR0'\u001b[0m\u001b[0;34m\u001b[0m\u001b[0m\n\u001b[1;32m      5\u001b[0m \u001b[0mprint\u001b[0m \u001b[0;34m(\u001b[0m\u001b[0;34m\"OK\"\u001b[0m\u001b[0;34m)\u001b[0m\u001b[0;34m\u001b[0m\u001b[0m\n",
      "\u001b[0;31mAssertionError\u001b[0m: incorrect value for logLossValBase"
     ]
    }
   ],
   "source": [
    "# TEST Validation log loss (4f)\n",
    "assert np.allclose(logLossValBase, 0.527603) == True,'incorrect value for logLossValBase'\n",
    "print (\"OK\")\n",
    "assert np.allclose(logLossValLR0, 0.456957) == True,'incorrect value for logLossValLR0'\n",
    "print (\"OK\")"
   ]
  },
  {
   "cell_type": "markdown",
   "metadata": {},
   "source": [
    "#### **Visualização 2: Curva ROC  **\n",
    "\n",
    "#### A curva ROC nos mostra o custo-benefício entre a taxa de falso positivo e a taxa de verdadeiro positivo, conforme diminuimos o limiar de predição. Um modelo aleatório é representado por uma linha pontilhada. Idealmente nosso modelo deve formar uma curva acima dessa linha."
   ]
  },
  {
   "cell_type": "code",
   "execution_count": 99,
   "metadata": {},
   "outputs": [
    {
     "data": {
      "image/png": "[encoded data removed]",
      "text/plain": [
       "<matplotlib.figure.Figure at 0x7f17dee958d0>"
      ]
     },
     "metadata": {},
     "output_type": "display_data"
    }
   ],
   "source": [
    "labelsAndScores = OHEValidationData.map(lambda lp:\n",
    "                                            (lp.label, getP(lp.features, model0.weights, model0.intercept)))\n",
    "labelsAndWeights = labelsAndScores.collect()\n",
    "labelsAndWeights.sort(key=lambda x: x[1], reverse=True)\n",
    "labelsByWeight = np.array([k for (k, v) in labelsAndWeights])\n",
    "\n",
    "length = labelsByWeight.size\n",
    "truePositives = labelsByWeight.cumsum()\n",
    "numPositive = truePositives[-1]\n",
    "falsePositives = np.arange(1.0, length + 1, 1.) - truePositives\n",
    "\n",
    "truePositiveRate = truePositives / numPositive\n",
    "falsePositiveRate = falsePositives / (length - numPositive)\n",
    "\n",
    "# Generate layout and plot data\n",
    "fig, ax = preparePlot(np.arange(0., 1.1, 0.1), np.arange(0., 1.1, 0.1))\n",
    "ax.set_xlim(-.05, 1.05), ax.set_ylim(-.05, 1.05)\n",
    "ax.set_ylabel('True Positive Rate (Sensitivity)')\n",
    "ax.set_xlabel('False Positive Rate (1 - Specificity)')\n",
    "plt.plot(falsePositiveRate, truePositiveRate, color='#8cbfd0', linestyle='-', linewidth=3.)\n",
    "plt.plot((0., 1.), (0., 1.), linestyle='--', color='#d6ebf2', linewidth=2.)  # Baseline model\n",
    "plt.show()"
   ]
  },
  {
   "cell_type": "markdown",
   "metadata": {},
   "source": [
    "### **Parte 5: Reduzindo a dimensão dos atributos via feature hashing**"
   ]
  },
  {
   "cell_type": "markdown",
   "metadata": {},
   "source": [
    "#### ** (5a) Função Hash **\n",
    "\n",
    "#### Nosso modelo OHE consegue criar uma representação numérica boa o suficiente para ser aplicável em algoritmos de classificação que não conseguem tratar dados categóricos. Porém, para nossa base de dados isso gerou um número enorme de atributos (233 mil) que pode tornar o problema intratável. Para reduzir o espaço de atributos vamos utilizar um truque através de funções hash chamado de feature hashing.\n",
    "\n",
    "#### Logo abaixo, já está implementada a função de hash que usaremos nessa parte do notebook. Vamos aplicá-la na nossa base artificial criada na Parte (1a) para termos uma intuição do que está acontecendo. Execute essa função para valores diferentes de `numBuckets` e observe o resultado."
   ]
  },
  {
   "cell_type": "code",
   "execution_count": 91,
   "metadata": {
    "collapsed": true
   },
   "outputs": [],
   "source": [
    "from collections import defaultdict\n",
    "import hashlib\n",
    "\n",
    "def hashFunction(numBuckets, rawFeats, printMapping=False):\n",
    "    \"\"\"Calculate a feature dictionary for an observation's features based on hashing.\n",
    "\n",
    "    Note:\n",
    "        Use printMapping=True for debug purposes and to better understand how the hashing works.\n",
    "\n",
    "    Args:\n",
    "        numBuckets (int): Number of buckets to use as features.\n",
    "        rawFeats (list of (int, str)): A list of features for an observation.  Represented as\n",
    "            (featureID, value) tuples.\n",
    "        printMapping (bool, optional): If true, the mappings of featureString to index will be\n",
    "            printed.\n",
    "\n",
    "    Returns:\n",
    "        dict of int to float:  The keys will be integers which represent the buckets that the\n",
    "            features have been hashed to.  The value for a given key will contain the count of the\n",
    "            (featureID, value) tuples that have hashed to that key.\n",
    "    \"\"\"\n",
    "    mapping = {}\n",
    "    for ind, category in rawFeats:\n",
    "        featureString = category + str(ind)\n",
    "        mapping[featureString] = int(int(hashlib.md5(featureString.encode('utf-8')).hexdigest(), 16) % numBuckets)\n",
    "    if(printMapping): print (mapping)\n",
    "    sparseFeatures = defaultdict(float)\n",
    "    for bucket in mapping.values():\n",
    "        sparseFeatures[bucket] += 1.0\n",
    "    return dict(sparseFeatures)\n",
    "\n",
    "# Reminder of the sample values:\n",
    "# sampleOne = [(0, 'mouse'), (1, 'black')]\n",
    "# sampleTwo = [(0, 'cat'), (1, 'tabby'), (2, 'mouse')]\n",
    "# sampleThree =  [(0, 'bear'), (1, 'black'), (2, 'salmon')]"
   ]
  },
  {
   "cell_type": "code",
   "execution_count": 92,
   "metadata": {},
   "outputs": [
    {
     "name": "stdout",
     "output_type": "stream",
     "text": [
      "{'mouse0': 3, 'black1': 2}\n",
      "{'cat0': 0, 'tabby1': 0, 'mouse2': 2}\n",
      "{'bear0': 0, 'black1': 2, 'salmon2': 1}\n",
      "{'mouse0': 31, 'black1': 14}\n",
      "{'cat0': 40, 'tabby1': 16, 'mouse2': 62}\n",
      "{'bear0': 72, 'black1': 14, 'salmon2': 5}\n",
      "\t\t 4 Buckets \t\t\t 100 Buckets\n"
     ]
    }
   ],
   "source": [
    "# EXERCICIO\n",
    "# Use four buckets\n",
    "sampOneFourBuckets = hashFunction(4, sampleOne, True)\n",
    "sampTwoFourBuckets = hashFunction(4, sampleTwo, True)\n",
    "sampThreeFourBuckets = hashFunction(4, sampleThree, True)\n",
    "\n",
    "# Use one hundred buckets\n",
    "sampOneHundredBuckets = hashFunction(100, sampleOne, True)\n",
    "sampTwoHundredBuckets = hashFunction(100, sampleTwo, True)\n",
    "sampThreeHundredBuckets = hashFunction(100, sampleThree, True)\n",
    "\n",
    "print ('\\t\\t 4 Buckets \\t\\t\\t 100 Buckets')\n",
    "#print ('SampleOne:\\t {0}\\t\\t {1}'.format(sampOneFourBuckets, sampOneHundredBuckets))\n",
    "#print ('SampleTwo:\\t {0}\\t\\t {1}'.format(sampTwoFourBuckets, sampTwoHundredBuckets))\n",
    "#print ('SampleThree:\\t {0}\\t {1}'.format(sampThreeFourBuckets, sampThreeHundredBuckets))"
   ]
  },
  {
   "cell_type": "code",
   "execution_count": 93,
   "metadata": {},
   "outputs": [
    {
     "name": "stdout",
     "output_type": "stream",
     "text": [
      "OK\n",
      "OK\n"
     ]
    }
   ],
   "source": [
    "# TEST Hash function (5a)\n",
    "assert sampOneFourBuckets == {2: 1.0, 3: 1.0},'incorrect value for sampOneFourBuckets'\n",
    "print (\"OK\")\n",
    "assert sampThreeHundredBuckets == {72: 1.0, 5: 1.0, 14: 1.0},'incorrect value for sampThreeHundredBuckets'\n",
    "print (\"OK\")"
   ]
  },
  {
   "cell_type": "markdown",
   "metadata": {},
   "source": [
    "#### ** (5b) Criando hashed features **\n",
    "\n",
    "#### Agora vamos usar essa função hash para criar hashed features para nossa base CTR. Primeiro escreva uma função que usa a função hash da Parte (5a) com numBuckets = $ \\scriptsize 2^{15} \\approx 33K $ para criar um `LabeledPoint` com os  hashed features armazenados como um `SparseVector`.  Então use esta função para criar uma nova base de treino, validação e teste com  hashed features. Dica: `parsedHashPoint` é similar a `parseOHEPoint` da Parte (3d)."
   ]
  },
  {
   "cell_type": "code",
   "execution_count": 94,
   "metadata": {},
   "outputs": [
    {
     "name": "stdout",
     "output_type": "stream",
     "text": [
      "[LabeledPoint(0.0, (32768,[1305,2883,3807,4814,4866,4913,6952,7117,9985,10316,11512,11722,12365,13893,14735,15816,16198,17761,19274,21604,22256,22563,22785,24855,25202,25533,25721,26487,26656,27668,28211,29152,29402,29873,30039,31484,32493,32708],[1.0,1.0,1.0,1.0,1.0,1.0,1.0,1.0,1.0,1.0,1.0,1.0,1.0,1.0,1.0,1.0,1.0,1.0,1.0,1.0,1.0,1.0,1.0,1.0,1.0,1.0,1.0,1.0,1.0,1.0,1.0,1.0,1.0,1.0,1.0,1.0,1.0,1.0]))]\n"
     ]
    }
   ],
   "source": [
    "# EXERCICIO\n",
    "def parseHashPoint(point, numBuckets):\n",
    "    \"\"\"Create a LabeledPoint for this observation using hashing.\n",
    "\n",
    "    Args:\n",
    "        point (str): A comma separated string where the first value is the label and the rest are\n",
    "            features.\n",
    "        numBuckets: The number of buckets to hash to.\n",
    "\n",
    "    Returns:\n",
    "        LabeledPoint: A LabeledPoint with a label (0.0 or 1.0) and a SparseVector of hashed\n",
    "            features.\n",
    "    \"\"\"\n",
    "    fields = point.split(',')\n",
    "    label = fields[0]\n",
    "    features = parsePoint(point)\n",
    "    return LabeledPoint(label, SparseVector(numBuckets, hashFunction(numBuckets, features)))\n",
    "\n",
    "\n",
    "numBucketsCTR = 2 ** 15\n",
    "hashTrainData = rawTrainData.map(lambda x: parseHashPoint(x,numBucketsCTR))\n",
    "hashTrainData.cache()\n",
    "hashValidationData = rawValidationData.map(lambda x: parseHashPoint(x,numBucketsCTR))\n",
    "hashValidationData.cache()\n",
    "hashTestData = rawTestData.map(lambda x: parseHashPoint(x,numBucketsCTR))\n",
    "hashTestData.cache()\n",
    "\n",
    "print (hashTrainData.take(1))"
   ]
  },
  {
   "cell_type": "code",
   "execution_count": 95,
   "metadata": {},
   "outputs": [
    {
     "ename": "AssertionError",
     "evalue": "incorrect number of features in hashTrainData",
     "output_type": "error",
     "traceback": [
      "\u001b[0;31m---------------------------------------------------------------------------\u001b[0m",
      "\u001b[0;31mAssertionError\u001b[0m                            Traceback (most recent call last)",
      "\u001b[0;32m<ipython-input-95-cf80543a6e16>\u001b[0m in \u001b[0;36m<module>\u001b[0;34m()\u001b[0m\n\u001b[1;32m     19\u001b[0m                         .take(100))\n\u001b[1;32m     20\u001b[0m \u001b[0;34m\u001b[0m\u001b[0m\n\u001b[0;32m---> 21\u001b[0;31m \u001b[0;32massert\u001b[0m \u001b[0mhashTrainDataFeatureSum\u001b[0m \u001b[0;34m==\u001b[0m \u001b[0;36m772\u001b[0m\u001b[0;34m,\u001b[0m\u001b[0;34m'incorrect number of features in hashTrainData'\u001b[0m\u001b[0;34m\u001b[0m\u001b[0m\n\u001b[0m\u001b[1;32m     22\u001b[0m \u001b[0mprint\u001b[0m \u001b[0;34m(\u001b[0m\u001b[0;34m\"OK\"\u001b[0m\u001b[0;34m)\u001b[0m\u001b[0;34m\u001b[0m\u001b[0m\n\u001b[1;32m     23\u001b[0m \u001b[0;32massert\u001b[0m \u001b[0mhashTrainDataLabelSum\u001b[0m \u001b[0;34m==\u001b[0m \u001b[0;36m24.0\u001b[0m\u001b[0;34m,\u001b[0m\u001b[0;34m'incorrect labels in hashTrainData'\u001b[0m\u001b[0;34m\u001b[0m\u001b[0m\n",
      "\u001b[0;31mAssertionError\u001b[0m: incorrect number of features in hashTrainData"
     ]
    }
   ],
   "source": [
    "# TEST Creating hashed features (5b)\n",
    "hashTrainDataFeatureSum = sum(hashTrainData\n",
    "                           .map(lambda lp: len(lp.features.indices))\n",
    "                           .take(20))\n",
    "hashTrainDataLabelSum = sum(hashTrainData\n",
    "                         .map(lambda lp: lp.label)\n",
    "                         .take(100))\n",
    "hashValidationDataFeatureSum = sum(hashValidationData\n",
    "                                .map(lambda lp: len(lp.features.indices))\n",
    "                                .take(20))\n",
    "hashValidationDataLabelSum = sum(hashValidationData\n",
    "                              .map(lambda lp: lp.label)\n",
    "                              .take(100))\n",
    "hashTestDataFeatureSum = sum(hashTestData\n",
    "                          .map(lambda lp: len(lp.features.indices))\n",
    "                          .take(20))\n",
    "hashTestDataLabelSum = sum(hashTestData\n",
    "                        .map(lambda lp: lp.label)\n",
    "                        .take(100))\n",
    "\n",
    "assert hashTrainDataFeatureSum == 772,'incorrect number of features in hashTrainData'\n",
    "print (\"OK\")\n",
    "assert hashTrainDataLabelSum == 24.0,'incorrect labels in hashTrainData'\n",
    "print (\"OK\")\n",
    "assert hashValidationDataFeatureSum == 776,'incorrect number of features in hashValidationData'\n",
    "print (\"OK\")\n",
    "assert hashValidationDataLabelSum == 16.0,'incorrect labels in hashValidationData'\n",
    "print (\"OK\")\n",
    "assert hashTestDataFeatureSum == 774,'incorrect number of features in hashTestData'\n",
    "print (\"OK\")\n",
    "assert hashTestDataLabelSum == 23.0,'incorrect labels in hashTestData'\n",
    "print (\"OK\")"
   ]
  },
  {
   "cell_type": "markdown",
   "metadata": {},
   "source": [
    "#### ** (5c) Esparsidade **\n",
    "\n",
    "#### Uma vez que temos  33 mil hashed features contra 233 mil OHE, devemos esperar que os atributos OHE sejam mais esparsos. Verifique essa hipótese computando a esparsidade média do OHE e do hashed features.\n",
    "\n",
    "#### Note que se você tem um `SparseVector` chamado `sparse`, chamar `len(sparse)` retornará o total de atributos, e não o número de valores não nulos. `SparseVector` tem atributos `indices` e `values` que contém informações sobre quais atributos são não nulos. "
   ]
  },
  {
   "cell_type": "code",
   "execution_count": 96,
   "metadata": {},
   "outputs": [
    {
     "name": "stdout",
     "output_type": "stream",
     "text": [
      "Average OHE Sparsity: 1.6641207e-04\n",
      "Average Hash Sparsity: 1.1806403e-03\n"
     ]
    }
   ],
   "source": [
    "# EXERCICIO\n",
    "def computeSparsity(data, d, n):\n",
    "    \"\"\"Calculates the average sparsity for the features in an RDD of LabeledPoints.\n",
    "\n",
    "    Args:\n",
    "        data (RDD of LabeledPoint): The LabeledPoints to use in the sparsity calculation.\n",
    "        d (int): The total number of features.\n",
    "        n (int): The number of observations in the RDD.\n",
    "\n",
    "    Returns:\n",
    "        float: The average of the ratio of features in a point to total features.\n",
    "    \"\"\"\n",
    "    return (data.map(lambda lp: len(lp.features.indices)).mean()/d)\n",
    "\n",
    "averageSparsityHash = computeSparsity(hashTrainData, numBucketsCTR, nTrain)\n",
    "averageSparsityOHE = computeSparsity(OHETrainData, numCtrOHEFeats, nTrain)\n",
    "\n",
    "print ('Average OHE Sparsity: {0:.7e}'.format(averageSparsityOHE))\n",
    "print ('Average Hash Sparsity: {0:.7e}'.format(averageSparsityHash))"
   ]
  },
  {
   "cell_type": "code",
   "execution_count": 97,
   "metadata": {},
   "outputs": [
    {
     "ename": "AssertionError",
     "evalue": "incorrect value for averageSparsityOHE",
     "output_type": "error",
     "traceback": [
      "\u001b[0;31m---------------------------------------------------------------------------\u001b[0m",
      "\u001b[0;31mAssertionError\u001b[0m                            Traceback (most recent call last)",
      "\u001b[0;32m<ipython-input-97-2da1c093a07a>\u001b[0m in \u001b[0;36m<module>\u001b[0;34m()\u001b[0m\n\u001b[1;32m      1\u001b[0m \u001b[0;31m# TEST Sparsity (5c)\u001b[0m\u001b[0;34m\u001b[0m\u001b[0;34m\u001b[0m\u001b[0m\n\u001b[0;32m----> 2\u001b[0;31m \u001b[0;32massert\u001b[0m \u001b[0mnp\u001b[0m\u001b[0;34m.\u001b[0m\u001b[0mallclose\u001b[0m\u001b[0;34m(\u001b[0m\u001b[0maverageSparsityOHE\u001b[0m\u001b[0;34m,\u001b[0m \u001b[0;36m1.6717677e-04\u001b[0m\u001b[0;34m)\u001b[0m \u001b[0;34m==\u001b[0m \u001b[0;32mTrue\u001b[0m\u001b[0;34m,\u001b[0m\u001b[0;34m'incorrect value for averageSparsityOHE'\u001b[0m\u001b[0;34m\u001b[0m\u001b[0m\n\u001b[0m\u001b[1;32m      3\u001b[0m \u001b[0mprint\u001b[0m \u001b[0;34m(\u001b[0m\u001b[0;34m\"OK\"\u001b[0m\u001b[0;34m)\u001b[0m\u001b[0;34m\u001b[0m\u001b[0m\n\u001b[1;32m      4\u001b[0m \u001b[0;32massert\u001b[0m \u001b[0mnp\u001b[0m\u001b[0;34m.\u001b[0m\u001b[0mallclose\u001b[0m\u001b[0;34m(\u001b[0m\u001b[0maverageSparsityHash\u001b[0m\u001b[0;34m,\u001b[0m \u001b[0;36m1.1805561e-03\u001b[0m\u001b[0;34m)\u001b[0m\u001b[0;34m,\u001b[0m\u001b[0;34m'incorrect value for averageSparsityHash'\u001b[0m\u001b[0;34m\u001b[0m\u001b[0m\n\u001b[1;32m      5\u001b[0m \u001b[0mprint\u001b[0m \u001b[0;34m(\u001b[0m\u001b[0;34m\"OK\"\u001b[0m\u001b[0;34m)\u001b[0m\u001b[0;34m\u001b[0m\u001b[0m\n",
      "\u001b[0;31mAssertionError\u001b[0m: incorrect value for averageSparsityOHE"
     ]
    }
   ],
   "source": [
    "# TEST Sparsity (5c)\n",
    "assert np.allclose(averageSparsityOHE, 1.6717677e-04) == True,'incorrect value for averageSparsityOHE'\n",
    "print (\"OK\")\n",
    "assert np.allclose(averageSparsityHash, 1.1805561e-03),'incorrect value for averageSparsityHash'\n",
    "print (\"OK\")"
   ]
  },
  {
   "cell_type": "markdown",
   "metadata": {},
   "source": [
    "#### ** (5d) Modelo logístico com hashed features **\n",
    "\n",
    "#### Agora treine um modelo de regressão logística para os hashed features. Execute um grid search para encontrar parâmetros adequados para essa base, avaliando o log-loss no conjunto de validação. Nota: isso pode demorar alguns minutos para terminar. Use `stepSizes` de 1 e 10 e `regParams`  de 1e-6 e 1e-3."
   ]
  },
  {
   "cell_type": "code",
   "execution_count": 98,
   "metadata": {
    "collapsed": true
   },
   "outputs": [],
   "source": [
    "numIters = 500\n",
    "regType = 'l2'\n",
    "includeIntercept = True\n",
    "\n",
    "# Initialize variables using values from initial model training\n",
    "bestModel = None\n",
    "bestLogLoss = 1e10"
   ]
  },
  {
   "cell_type": "code",
   "execution_count": 99,
   "metadata": {},
   "outputs": [
    {
     "name": "stderr",
     "output_type": "stream",
     "text": [
      "/opt/spark/python/pyspark/mllib/classification.py:313: UserWarning: Deprecated in 2.0.0. Use ml.classification.LogisticRegression or LogisticRegressionWithLBFGS.\n",
      "  \"Deprecated in 2.0.0. Use ml.classification.LogisticRegression or \"\n"
     ]
    },
    {
     "name": "stdout",
     "output_type": "stream",
     "text": [
      "\tstepSize = 1.0, regParam = 1e-06: logloss = 5.562\n",
      "\tstepSize = 1.0, regParam = 1e-03: logloss = 5.562\n",
      "\tstepSize = 10.0, regParam = 1e-06: logloss = 5.562\n",
      "\tstepSize = 10.0, regParam = 1e-03: logloss = 5.562\n",
      "Hashed Features Validation Logloss:\n",
      "\tBaseline = 0.527\n",
      "\tLogReg = 5.562\n"
     ]
    }
   ],
   "source": [
    "# EXERCICIO\n",
    "stepSizes = [1, 10]\n",
    "regParams = [1e-6, 1e-3]\n",
    "for stepSize in stepSizes:\n",
    "    for regParam in regParams:\n",
    "        model = (LogisticRegressionWithSGD\n",
    "                 .train(hashTrainData, numIters, stepSize, regParam=regParam, regType=regType,\n",
    "                        intercept=includeIntercept))\n",
    "        logLossVa = evaluateResults(model, hashValidationData)\n",
    "        print ('\\tstepSize = {0:.1f}, regParam = {1:.0e}: logloss = {2:.3f}'\n",
    "               .format(stepSize, regParam, logLossVa))\n",
    "        if (logLossVa < bestLogLoss):\n",
    "            bestModel = model\n",
    "            bestLogLoss = logLossVa\n",
    "\n",
    "print ('Hashed Features Validation Logloss:\\n\\tBaseline = {0:.3f}\\n\\tLogReg = {1:.3f}'\n",
    "       .format(logLossValBase, bestLogLoss))"
   ]
  },
  {
   "cell_type": "code",
   "execution_count": 103,
   "metadata": {},
   "outputs": [
    {
     "ename": "AssertionError",
     "evalue": "incorrect value for bestLogLoss",
     "output_type": "error",
     "traceback": [
      "\u001b[0;31m---------------------------------------------------------------------------\u001b[0m",
      "\u001b[0;31mAssertionError\u001b[0m                            Traceback (most recent call last)",
      "\u001b[0;32m<ipython-input-103-6db071f3b847>\u001b[0m in \u001b[0;36m<module>\u001b[0;34m()\u001b[0m\n\u001b[1;32m      1\u001b[0m \u001b[0;31m# TEST Logistic model with hashed features (5d)\u001b[0m\u001b[0;34m\u001b[0m\u001b[0;34m\u001b[0m\u001b[0m\n\u001b[0;32m----> 2\u001b[0;31m \u001b[0;32massert\u001b[0m \u001b[0mnp\u001b[0m\u001b[0;34m.\u001b[0m\u001b[0mallclose\u001b[0m\u001b[0;34m(\u001b[0m\u001b[0mbestLogLoss\u001b[0m\u001b[0;34m,\u001b[0m \u001b[0;36m0.4481683608\u001b[0m\u001b[0;34m)\u001b[0m\u001b[0;34m,\u001b[0m\u001b[0;34m'incorrect value for bestLogLoss'\u001b[0m\u001b[0;34m\u001b[0m\u001b[0m\n\u001b[0m\u001b[1;32m      3\u001b[0m \u001b[0mprint\u001b[0m \u001b[0;34m(\u001b[0m\u001b[0;34m\"OK\"\u001b[0m\u001b[0;34m)\u001b[0m\u001b[0;34m\u001b[0m\u001b[0m\n",
      "\u001b[0;31mAssertionError\u001b[0m: incorrect value for bestLogLoss"
     ]
    }
   ],
   "source": [
    "# TEST Logistic model with hashed features (5d)\n",
    "assert np.allclose(bestLogLoss, 0.4481683608),'incorrect value for bestLogLoss'\n",
    "print (\"OK\")"
   ]
  },
  {
   "cell_type": "markdown",
   "metadata": {},
   "source": [
    "#### ** (5e) Avaliando a base de testes **\n",
    "\n",
    "#### Finalmente, avalie o melhor modelo da Parte (5d) na base de testes. Compare o log-loss do resultado com o log-loss do nosso baseline no conjunto de testes, calculando da mesma forma que na Parte (4f)."
   ]
  },
  {
   "cell_type": "code",
   "execution_count": 104,
   "metadata": {},
   "outputs": [
    {
     "name": "stdout",
     "output_type": "stream",
     "text": [
      "Hashed Features Test Log Loss:\n",
      "\tBaseline = 0.539\n",
      "\tLogReg = 5.817\n"
     ]
    }
   ],
   "source": [
    "# EXERCICIO\n",
    "# Log loss for the best model from (5d)\n",
    "logLossValLR0 = evaluateResults(model0, OHEValidationData)\n",
    "\n",
    "logLossTest = evaluateResults(bestModel, hashTestData)\n",
    "\n",
    "# Log loss for the baseline model\n",
    "logLossTestBaseline = hashTestData.map(lambda lp: computeLogLoss(classOneFracTrain,lp.label)).mean()\n",
    "\n",
    "print ('Hashed Features Test Log Loss:\\n\\tBaseline = {0:.3f}\\n\\tLogReg = {1:.3f}'\n",
    "       .format(logLossTestBaseline, logLossTest))"
   ]
  },
  {
   "cell_type": "code",
   "execution_count": 105,
   "metadata": {},
   "outputs": [
    {
     "ename": "AssertionError",
     "evalue": "incorrect value for logLossTestBaseline",
     "output_type": "error",
     "traceback": [
      "\u001b[0;31m---------------------------------------------------------------------------\u001b[0m",
      "\u001b[0;31mAssertionError\u001b[0m                            Traceback (most recent call last)",
      "\u001b[0;32m<ipython-input-105-9b5065589e2a>\u001b[0m in \u001b[0;36m<module>\u001b[0;34m()\u001b[0m\n\u001b[1;32m      1\u001b[0m \u001b[0;31m# TEST Evaluate on the test set (5e)\u001b[0m\u001b[0;34m\u001b[0m\u001b[0;34m\u001b[0m\u001b[0m\n\u001b[0;32m----> 2\u001b[0;31m \u001b[0;32massert\u001b[0m \u001b[0mnp\u001b[0m\u001b[0;34m.\u001b[0m\u001b[0mallclose\u001b[0m\u001b[0;34m(\u001b[0m\u001b[0mlogLossTestBaseline\u001b[0m\u001b[0;34m,\u001b[0m \u001b[0;36m0.537438\u001b[0m\u001b[0;34m)\u001b[0m\u001b[0;34m,\u001b[0m\u001b[0;34m'incorrect value for logLossTestBaseline'\u001b[0m\u001b[0;34m\u001b[0m\u001b[0m\n\u001b[0m\u001b[1;32m      3\u001b[0m \u001b[0mprint\u001b[0m \u001b[0;34m(\u001b[0m\u001b[0;34m\"OK\"\u001b[0m\u001b[0;34m)\u001b[0m\u001b[0;34m\u001b[0m\u001b[0m\n\u001b[1;32m      4\u001b[0m \u001b[0;32massert\u001b[0m \u001b[0mnp\u001b[0m\u001b[0;34m.\u001b[0m\u001b[0mallclose\u001b[0m\u001b[0;34m(\u001b[0m\u001b[0mlogLossTest\u001b[0m\u001b[0;34m,\u001b[0m \u001b[0;36m0.455616931\u001b[0m\u001b[0;34m)\u001b[0m\u001b[0;34m,\u001b[0m\u001b[0;34m'incorrect value for logLossTest'\u001b[0m\u001b[0;34m\u001b[0m\u001b[0m\n\u001b[1;32m      5\u001b[0m \u001b[0mprint\u001b[0m \u001b[0;34m(\u001b[0m\u001b[0;34m\"OK\"\u001b[0m\u001b[0;34m)\u001b[0m\u001b[0;34m\u001b[0m\u001b[0m\n",
      "\u001b[0;31mAssertionError\u001b[0m: incorrect value for logLossTestBaseline"
     ]
    }
   ],
   "source": [
    "# TEST Evaluate on the test set (5e)\n",
    "assert np.allclose(logLossTestBaseline, 0.537438),'incorrect value for logLossTestBaseline'\n",
    "print (\"OK\")\n",
    "assert np.allclose(logLossTest, 0.455616931),'incorrect value for logLossTest'\n",
    "print (\"OK\")"
   ]
  },
  {
   "cell_type": "code",
   "execution_count": null,
   "metadata": {
    "collapsed": true
   },
   "outputs": [],
   "source": []
  },
  {
   "cell_type": "code",
   "execution_count": null,
   "metadata": {
    "collapsed": true
   },
   "outputs": [],
   "source": []
  }
 ],
 "metadata": {
  "kernelspec": {
   "display_name": "Python 3",
   "language": "python",
   "name": "python3"
  },
  "language_info": {
   "codemirror_mode": {
    "name": "ipython",
    "version": 3
   },
   "file_extension": ".py",
   "mimetype": "text/x-python",
   "name": "python",
   "nbconvert_exporter": "python",
   "pygments_lexer": "ipython3",
   "version": "3.6.1"
  }
 },
 "nbformat": 4,
 "nbformat_minor": 1
}
